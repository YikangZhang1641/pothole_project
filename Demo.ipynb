{
 "cells": [
  {
   "cell_type": "code",
   "execution_count": 1,
   "id": "5270874d",
   "metadata": {},
   "outputs": [
    {
     "name": "stdout",
     "output_type": "stream",
     "text": [
      "Jupyter environment detected. Enabling Open3D WebVisualizer.\n",
      "[Open3D INFO] WebRTC GUI backend enabled.\n",
      "[Open3D INFO] WebRTCWindowSystem: HTTP handshake server disabled.\n"
     ]
    }
   ],
   "source": [
    "import open3d as o3d\n",
    "import pymesh\n",
    "import numpy as np\n",
    "import scipy.io as scio\n",
    "import cv2\n",
    "import math\n",
    "from collections import deque\n",
    "import triangle as tr\n",
    "import matplotlib.pyplot as plt\n",
    "\n",
    "import os, sys\n",
    "import multiprocessing\n",
    "import shutil\n",
    "import trimesh\n",
    "from tqdm import tqdm\n",
    "\n",
    "GAP = 30\n",
    "GRID_PIXEL = 10\n",
    "stereo_dataset_path = \"/media/mias/UGREEN0/stereo_pothole_datasets/dataset2\"\n",
    "\n",
    "CORNER_LU = 0\n",
    "CORNER_LD = 1\n",
    "CORNER_RD = 2\n",
    "CORNER_RU = 3\n",
    "\n",
    "def bfs(img, visited, pos, new_label, label_cnt):\n",
    "    x, y = pos\n",
    "    if visited[x][y]:\n",
    "        return False\n",
    "    \n",
    "    visited[x][y] = True\n",
    "    if img[x][y] == 0:\n",
    "        return False\n",
    "    \n",
    "    dq = deque([])\n",
    "    dq.appendleft((x,y))\n",
    "    \n",
    "    L,R,U,D = visited.shape[0], 0, visited.shape[1], 0\n",
    "    while len(dq) > 0:\n",
    "        x, y = dq.pop()\n",
    "        new_label[x][y] = label_cnt * 50\n",
    "        L = min(L, x)\n",
    "        R = max(R, x)\n",
    "        U = min(U, y)\n",
    "        D = max(D, y)\n",
    "        \n",
    "        for dx, dy in [(0,1), (0,-1), (1,0), (-1,0)]:\n",
    "            nx, ny = x+dx, y+dy\n",
    "            if nx < 0 or nx >= visited.shape[0] or ny < 0 or ny >= visited.shape[1]:\n",
    "                continue\n",
    "            if visited[nx][ny]:\n",
    "                continue\n",
    "            visited[nx][ny] = True\n",
    "            \n",
    "            if img[nx][ny] != 0:\n",
    "                dq.appendleft((nx, ny))\n",
    "            \n",
    "    return (L,R,U,D)\n",
    "\n",
    "def pushback_point(vertices, indices, base, cnt, data_points, i, j, border=False):\n",
    "    p = data_points[i*GRID_PIXEL][j*GRID_PIXEL]\n",
    "    \n",
    "    ###### have to filter unknown bad points###########\n",
    "    if np.any(np.isinf(p)):\n",
    "        if i > 1:\n",
    "            p = data_points[(i-1)*GRID_PIXEL][j*GRID_PIXEL] * 2 - data_points[(i-2)*GRID_PIXEL][j*GRID_PIXEL]\n",
    "    if np.any(np.isinf(p)):\n",
    "        if j > 1:\n",
    "            p = data_points[i*GRID_PIXEL][(j-1)*GRID_PIXEL] * 2 - data_points[i*GRID_PIXEL][(j-2)*GRID_PIXEL]\n",
    "    if np.any(np.isinf(p)):\n",
    "        if i > 1 and j > 1:\n",
    "            p = data_points[(i-1)*GRID_PIXEL][(j+1)*GRID_PIXEL] * 2 - data_points[(i-2)*GRID_PIXEL][(j+2)*GRID_PIXEL]\n",
    "    if np.any(np.isinf(p)):\n",
    "        if i > 1 and j < data_points.shape[1] // GRID_PIXEL - 1:\n",
    "            p = data_points[(i-1)*GRID_PIXEL][(j-1)*GRID_PIXEL] * 2 - data_points[(i-2)*GRID_PIXEL][(j-2)*GRID_PIXEL]\n",
    "#    if np.any(np.isinf(p)):\n",
    "##        if i > 3 and j < data_points.shape[1] // GRID_PIXEL - 3:\n",
    "#        p = data_points[(i-2)*GRID_PIXEL][(j-2)*GRID_PIXEL] * 2 - data_points[(i-4)*GRID_PIXEL][(j-4)*GRID_PIXEL]\n",
    "    if np.any(np.isinf(p)):\n",
    "#        print(\"bad point inf detected at: \", i*GRID_PIXEL, j*GRID_PIXEL)\n",
    "        return\n",
    "    ###################################################       \n",
    "    vertices.append([p[0]-base[0], p[1]-base[1], -p[2]+base[2]])\n",
    "\n",
    "    if i not in indices:\n",
    "        indices[i] = {}\n",
    "    indices[i][j] = cnt\n"
   ]
  },
  {
   "cell_type": "code",
   "execution_count": 2,
   "id": "62ad6813",
   "metadata": {},
   "outputs": [],
   "source": [
    "file = \"15.mat\"\n",
    "# for file in os.listdir(os.path.join(stereo_dataset_path, \"ptcloud\")):\n",
    "\n",
    "filepath = os.path.join(stereo_dataset_path, \"ptcloud\", file) \n",
    "labelpath = os.path.join(stereo_dataset_path, \"label\", file.split('.')[0]+\".png\")\n",
    "\n",
    "data_points = scio.loadmat(filepath)['xyzPoints']\n",
    "\n",
    "img = cv2.imread(labelpath)\n",
    "label = img[:,:,2]\n",
    "\n",
    "visited = np.zeros(label.shape)\n",
    "new_label = np.zeros(label.shape)\n",
    "label_cnt = 0\n",
    "for pi in range(label.shape[0]):\n",
    "    for pj in range(label.shape[1]):\n",
    "        result = bfs(label, visited, (pi,pj), new_label, label_cnt)\n",
    "        if not result:\n",
    "            continue\n",
    "    \n",
    "        L = max(result[0] - GAP, 0)//GRID_PIXEL\n",
    "        R = min(result[1] + GAP, label.shape[0]-1)//GRID_PIXEL\n",
    "        U = max(result[2] - GAP, 0)//GRID_PIXEL\n",
    "        D = min(result[3] + GAP, label.shape[1]-1)//GRID_PIXEL        \n",
    "                       \n",
    "        name = stereo_dataset_path[-1] + '_' + file.split('.')[0]+\"_\"+str(label_cnt)\n",
    "    \n",
    "        break"
   ]
  },
  {
   "cell_type": "code",
   "execution_count": 3,
   "id": "f9403f8b",
   "metadata": {},
   "outputs": [
    {
     "name": "stdout",
     "output_type": "stream",
     "text": [
      "processing mesh 2_15_0\n"
     ]
    },
    {
     "data": {
      "text/plain": [
       "TriangleMesh with 1500 points and 2846 triangles."
      ]
     },
     "execution_count": 3,
     "metadata": {},
     "output_type": "execute_result"
    }
   ],
   "source": [
    "name = stereo_dataset_path[-1] + '_' + file.split('.')[0]+\"_\"+str(label_cnt)\n",
    "print(\"processing mesh\", name)\n",
    "base = data_points[(L+1)*GRID_PIXEL][(U+1)*GRID_PIXEL]\n",
    "\n",
    "### vertices\n",
    "vertices = []\n",
    "indices = {}\n",
    "\n",
    "#### construct corners.\n",
    "pushback_point(vertices, indices, base, 0, data_points, L, U)\n",
    "pushback_point(vertices, indices, base, 1, data_points, L, D)\n",
    "pushback_point(vertices, indices, base, 2, data_points, R, D)\n",
    "pushback_point(vertices, indices, base, 3, data_points, R, U)\n",
    "\n",
    "#### construct vertices\n",
    "cnt = 4\n",
    "for i in range(L+1, R):\n",
    "    for j in range(U+1, D):\n",
    "        pushback_point(vertices, indices, base, cnt, data_points, i, j)\n",
    "        cnt += 1\n",
    "\n",
    "\n",
    "faces = []\n",
    "for i in range(L+1, R-1):\n",
    "    for j in range(U+1, D-1):\n",
    "        flag = False\n",
    "        if j not in indices[i]:\n",
    "            continue\n",
    "\n",
    "        ax, ay = i+1, j+1\n",
    "        bx, by = i+1, j\n",
    "        cx, cy = i, j+1\n",
    "\n",
    "        if ay in indices[ax] and by in indices[bx]:\n",
    "            faces.append( [ indices[i][j], indices[ax][ay], indices[bx][by] ] )\n",
    "        if ay in indices[ax] and cy in indices[cx]:\n",
    "            faces.append( [ indices[i][j], indices[cx][cy], indices[ax][ay] ] )\n",
    "\n",
    "faces.append([indices[L][U], indices[L][D], indices[L+1][D-1]])\n",
    "faces.append([indices[L][U], indices[L+1][D-1], indices[L+1][U+1]])\n",
    "faces.append([indices[L][U], indices[L+1][U+1], indices[R-1][U+1]])\n",
    "faces.append([indices[L][U], indices[R-1][U+1], indices[R][U]])\n",
    "\n",
    "faces.append([indices[R][D], indices[R][U], indices[R-1][U+1]])\n",
    "faces.append([indices[R][D], indices[R-1][U+1], indices[R-1][D-1]])\n",
    "faces.append([indices[R][D], indices[R-1][D-1], indices[L+1][D-1]])\n",
    "faces.append([indices[R][D], indices[L+1][D-1], indices[L][D]])\n",
    "\n",
    "vertices = np.array(vertices) / 100\n",
    "faces = np.array(faces)\n",
    "\n",
    "mesh = o3d.geometry.TriangleMesh()\n",
    "mesh.vertices = o3d.utility.Vector3dVector(vertices)\n",
    "mesh.triangles = o3d.utility.Vector3iVector(faces)\n",
    "\n",
    "\n",
    "coord = o3d.geometry.TriangleMesh.create_coordinate_frame(size=60, origin=[0,0,0])\n",
    "mesh_edges = np.vstack((faces[:, [0, 1]], faces[:, [1, 2]], faces[:, [2, 0]]))\n",
    "\n",
    "corner0 = mesh.vertices[indices[R][U]] - mesh.vertices[indices[L][U]]\n",
    "roll = np.arctan2(corner0[2], corner0[1])\n",
    "\n",
    "corner1 = mesh.vertices[indices[L][D]] - mesh.vertices[indices[L][U]]\n",
    "pitch = np.arctan2(corner1[2], corner1[0])\n",
    "\n",
    "Rot = mesh.get_rotation_matrix_from_xyz((-roll, pitch, 0))\n",
    "mesh.rotate(Rot, center=(0, 0, 0))\n"
   ]
  },
  {
   "cell_type": "code",
   "execution_count": 4,
   "id": "38be8957",
   "metadata": {},
   "outputs": [],
   "source": [
    "# o3d.visualization.draw_geometries([mesh])\n"
   ]
  },
  {
   "cell_type": "code",
   "execution_count": 5,
   "id": "0b78ce63",
   "metadata": {},
   "outputs": [],
   "source": [
    "### z\n",
    "for i in range(L+1, R):\n",
    "    a = mesh.vertices[indices[ i ][ U+1 ]][2]\n",
    "    b = mesh.vertices[indices[ i ][ D-1 ]][2]\n",
    "    for j in range(U+1, D):\n",
    "        mesh.vertices[indices[ i ][ j ]][2] -= (a + (b-a) / (D-U-1) * (j-U-1))\n",
    "        \n",
    "for j in range(U+1, D):\n",
    "    c = mesh.vertices[indices[ L+1 ][ j ]][2]\n",
    "    d = mesh.vertices[indices[ R-1 ][ j ]][2]    \n",
    "    for i in range(L+1, R):\n",
    "        mesh.vertices[indices[ i ][ j ]][2] -= (c + (d-c) / (R-L-1) * (i-L-1))\n",
    "\n",
    "mesh.vertices[0][2] = 0\n",
    "mesh.vertices[1][2] = 0\n",
    "mesh.vertices[2][2] = 0\n",
    "mesh.vertices[3][2] = 0\n",
    "\n",
    "        \n",
    "# ### xy\n",
    "for i in range(L+1, R): #U\n",
    "    start = mesh.vertices[indices[ L+1 ][ U+1 ]][:2]\n",
    "    end   = mesh.vertices[indices[ R-1 ][ U+1 ]][:2]\n",
    "    mesh.vertices[indices[ i ][ U+1 ]][:2] = start + (end - start) / (R-L-2) * (i-L-1)\n",
    "    \n",
    "for i in range(L+1, R): #D\n",
    "    start = mesh.vertices[indices[ L+1 ][ D-1 ]][:2]\n",
    "    end   = mesh.vertices[indices[ R-1 ][ D-1 ]][:2]\n",
    "    mesh.vertices[indices[ i ][ D-1 ]][:2] = start + (end - start) / (R-L-2) * (i-L-1)\n",
    "        \n",
    "for j in range(U+1, D): #L\n",
    "    start = mesh.vertices[indices[ L+1 ][ U+1 ]][:2]\n",
    "    end   = mesh.vertices[indices[ L+1 ][ D-1 ]][:2]\n",
    "    mesh.vertices[indices[ L+1 ][ j ]][:2] = start + (end - start) / (D-U-2) * (j-U-1)\n",
    "\n",
    "for j in range(U+1, D): #R\n",
    "    start = mesh.vertices[indices[ R-1 ][ U+1 ]][:2]\n",
    "    end   = mesh.vertices[indices[ R-1 ][ D-1 ]][:2]\n",
    "    mesh.vertices[indices[ R-1 ][ j ]][:2] = start + (end - start) / (D-U-2) * (j-U-1)\n",
    "    "
   ]
  },
  {
   "cell_type": "code",
   "execution_count": 6,
   "id": "de88ea4c",
   "metadata": {},
   "outputs": [],
   "source": [
    "# mesh_r = copy.deepcopy(mesh)\n",
    "\n",
    "coord = o3d.geometry.TriangleMesh.create_coordinate_frame(size=0.1, origin=[0,0,0])\n",
    "\n",
    "triangles = np.asarray(mesh.triangles)\n",
    "mesh_edges = np.vstack((triangles[:, [0, 1]], triangles[:, [1, 2]], triangles[:, [2, 0]]))\n",
    "\n",
    "mesh_lines = o3d.geometry.LineSet(\n",
    "    points=o3d.utility.Vector3dVector(mesh.vertices),\n",
    "    lines=o3d.utility.Vector2iVector(mesh_edges),\n",
    ")\n",
    "o3d.visualization.draw_geometries([mesh, coord, mesh_lines])\n",
    "# o3d.io.write_triangle_mesh(file.split(\".\")[0] + \".ply\", mesh)\n"
   ]
  },
  {
   "cell_type": "code",
   "execution_count": 7,
   "id": "a3a8a577",
   "metadata": {},
   "outputs": [],
   "source": [
    "################################### Pit Mesh Above ############################################\n"
   ]
  },
  {
   "cell_type": "code",
   "execution_count": 8,
   "id": "945017ed",
   "metadata": {},
   "outputs": [],
   "source": [
    "################################### Road Mesh Below ############################################\n",
    "mesh.translate((1.8,7.0,0))\n",
    "Rot = mesh.get_rotation_matrix_from_xyz((0, 0, 2.725))\n",
    "mesh.rotate(Rot, center=mesh.get_center())\n",
    "\n",
    "triangles = np.asarray(mesh.triangles)\n",
    "mesh_edges = np.vstack((triangles[:, [0, 1]], triangles[:, [1, 2]], triangles[:, [2, 0]]))\n",
    "\n",
    "mesh_lines = o3d.geometry.LineSet(\n",
    "    points=o3d.utility.Vector3dVector(mesh.vertices),\n",
    "    lines=o3d.utility.Vector2iVector(mesh_edges),\n",
    ")"
   ]
  },
  {
   "cell_type": "code",
   "execution_count": 9,
   "id": "465778e2",
   "metadata": {},
   "outputs": [],
   "source": [
    "coord = o3d.geometry.TriangleMesh.create_coordinate_frame(size=1, origin=[0,0,0])\n",
    "\n",
    "# road = o3d.io.read_triangle_mesh(\"/home/mias/Datasets/CarlaRoads/Town01_Road_Road.obj\")\n",
    "road = o3d.io.read_triangle_mesh(\"/home/mias/Datasets/CarlaRoads/part_of_Town01.obj\")\n",
    "\n",
    "road.vertices = o3d.utility.Vector3dVector(np.array(road.vertices)[:, [2,0,1]])\n",
    "\n",
    "triangles = np.asarray(road.triangles)\n",
    "road_edges = np.vstack((triangles[:, [0, 1]], triangles[:, [1, 2]], triangles[:, [2, 0]]))\n",
    "\n",
    "road_lines = o3d.geometry.LineSet(\n",
    "    points=o3d.utility.Vector3dVector(road.vertices),\n",
    "    lines=o3d.utility.Vector2iVector(road_edges),\n",
    ")\n",
    "o3d.visualization.draw_geometries([mesh, mesh_lines, road, road_lines, coord])"
   ]
  },
  {
   "cell_type": "code",
   "execution_count": 10,
   "id": "ef6a6508",
   "metadata": {},
   "outputs": [
    {
     "data": {
      "text/plain": [
       "array([[ 3.08550157e+00,  7.60060598e+00,  0.00000000e+00],\n",
       "       [ 2.01482383e+00,  8.08567754e+00,  0.00000000e+00],\n",
       "       [ 1.70659081e+00,  7.26596412e+00,  0.00000000e+00],\n",
       "       ...,\n",
       "       [ 1.77873982e+00,  7.25623304e+00, -6.03111754e-05],\n",
       "       [ 1.75679345e+00,  7.26725060e+00, -4.48065899e-05],\n",
       "       [ 1.73484707e+00,  7.27826816e+00, -4.91897904e-05]])"
      ]
     },
     "execution_count": 10,
     "metadata": {},
     "output_type": "execute_result"
    }
   ],
   "source": [
    "# np.array(road.vertices)[:, [0,2,1]]\n",
    "np.array(mesh.vertices)"
   ]
  },
  {
   "cell_type": "code",
   "execution_count": 11,
   "id": "fde1062b",
   "metadata": {},
   "outputs": [
    {
     "data": {
      "text/plain": [
       "array([[-1.20800000e-03,  2.74987755e+01, -0.00000000e+00],\n",
       "       [ 3.94951010e+00,  2.87313309e+01,  0.00000000e+00],\n",
       "       [-1.20800000e-03,  2.87313232e+01, -0.00000000e+00],\n",
       "       [ 3.94951010e+00,  2.74933281e+01,  0.00000000e+00],\n",
       "       [-1.20800000e-03,  2.63487778e+01, -0.00000000e+00],\n",
       "       [ 4.02346182e+00,  2.87313309e+01,  0.00000000e+00],\n",
       "       [ 4.07276917e+00,  2.74933281e+01,  0.00000000e+00],\n",
       "       [ 4.07276917e+00,  2.87313309e+01,  0.00000000e+00],\n",
       "       [ 4.02346182e+00,  2.74933281e+01,  0.00000000e+00],\n",
       "       [ 4.07276917e+00,  2.63433323e+01,  0.00000000e+00],\n",
       "       [ 3.94951010e+00,  2.63433323e+01,  0.00000000e+00],\n",
       "       [-1.20800000e-03,  2.51987743e+01, -0.00000000e+00],\n",
       "       [ 4.02346182e+00,  2.63433323e+01,  0.00000000e+00],\n",
       "       [ 3.94951701e+00,  2.51933346e+01,  0.00000000e+00],\n",
       "       [-1.20099995e-03,  2.40487766e+01, -0.00000000e+00],\n",
       "       [ 4.02346706e+00,  2.51933346e+01,  0.00000000e+00],\n",
       "       [ 4.07276917e+00,  2.51933346e+01,  0.00000000e+00],\n",
       "       [ 4.07276917e+00,  2.40433369e+01,  0.00000000e+00],\n",
       "       [ 3.94951701e+00,  2.40433369e+01,  0.00000000e+00],\n",
       "       [-1.20099995e-03,  2.28987789e+01, -0.00000000e+00],\n",
       "       [ 4.02346706e+00,  2.40433369e+01,  0.00000000e+00],\n",
       "       [ 4.07276917e+00,  2.28933392e+01,  0.00000000e+00],\n",
       "       [ 3.94951701e+00,  2.28933392e+01,  0.00000000e+00],\n",
       "       [-1.20099995e-03,  2.17487831e+01, -0.00000000e+00],\n",
       "       [ 4.02346706e+00,  2.28933392e+01,  0.00000000e+00],\n",
       "       [ 4.07276917e+00,  2.17433376e+01,  0.00000000e+00],\n",
       "       [ 3.94951701e+00,  2.17433376e+01,  0.00000000e+00],\n",
       "       [-1.20099995e-03,  2.05162201e+01, -0.00000000e+00],\n",
       "       [ 3.94951701e+00,  2.05162201e+01,  0.00000000e+00],\n",
       "       [ 4.02346706e+00,  2.17433376e+01,  0.00000000e+00],\n",
       "       [ 4.07276917e+00,  2.05162201e+01,  0.00000000e+00],\n",
       "       [ 4.02346706e+00,  2.05162201e+01,  0.00000000e+00],\n",
       "       [-3.91977692e+00,  2.05162201e+01, -0.00000000e+00],\n",
       "       [-1.20099995e-03,  2.05162201e+01, -0.00000000e+00],\n",
       "       [-1.20099995e-03,  2.17487831e+01, -0.00000000e+00],\n",
       "       [-3.91977692e+00,  2.17542305e+01, -0.00000000e+00],\n",
       "       [-1.20099995e-03,  2.28987789e+01, -0.00000000e+00],\n",
       "       [-4.04337311e+00,  2.05162201e+01, -0.00000000e+00],\n",
       "       [-3.91977692e+00,  2.29042339e+01, -0.00000000e+00],\n",
       "       [-1.20099995e-03,  2.40487766e+01, -0.00000000e+00],\n",
       "       [-4.04337311e+00,  2.17542305e+01, -0.00000000e+00],\n",
       "       [-4.06000805e+00,  2.05162201e+01, -0.00000000e+00],\n",
       "       [-4.06000805e+00,  2.17542305e+01, -0.00000000e+00],\n",
       "       [-4.06000805e+00,  2.29042339e+01, -0.00000000e+00],\n",
       "       [-4.04337311e+00,  2.29042339e+01, -0.00000000e+00],\n",
       "       [-4.06000805e+00,  2.40542316e+01, -0.00000000e+00],\n",
       "       [-4.04337311e+00,  2.40542316e+01, -0.00000000e+00],\n",
       "       [-4.06000805e+00,  2.52042351e+01, -0.00000000e+00],\n",
       "       [-3.91977692e+00,  2.40542316e+01, -0.00000000e+00],\n",
       "       [-1.20800000e-03,  2.51987743e+01, -0.00000000e+00],\n",
       "       [-4.04337311e+00,  2.52042351e+01, -0.00000000e+00],\n",
       "       [-4.06000805e+00,  2.63542328e+01, -0.00000000e+00],\n",
       "       [-3.91977692e+00,  2.52042351e+01, -0.00000000e+00],\n",
       "       [-1.20800000e-03,  2.63487778e+01, -0.00000000e+00],\n",
       "       [-4.04337311e+00,  2.63542328e+01, -0.00000000e+00],\n",
       "       [-3.91977692e+00,  2.63542328e+01, -0.00000000e+00],\n",
       "       [-1.20800000e-03,  2.74987755e+01, -0.00000000e+00],\n",
       "       [-4.04338217e+00,  2.75042286e+01, -0.00000000e+00],\n",
       "       [-4.06001520e+00,  2.75042286e+01, -0.00000000e+00],\n",
       "       [-3.91977692e+00,  2.75042286e+01, -0.00000000e+00],\n",
       "       [-1.20800000e-03,  2.87313232e+01, -0.00000000e+00],\n",
       "       [-3.91977692e+00,  2.87313309e+01, -0.00000000e+00],\n",
       "       [-4.04338217e+00,  2.87313232e+01, -0.00000000e+00],\n",
       "       [-4.06001520e+00,  2.87313309e+01, -0.00000000e+00],\n",
       "       [ 4.05566216e+00,  1.00813532e+01,  0.00000000e+00],\n",
       "       [ 4.05880594e+00,  1.20638313e+01,  0.00000000e+00],\n",
       "       [ 4.05359793e+00,  1.20638313e+01,  0.00000000e+00],\n",
       "       [ 4.04996586e+00,  1.00813551e+01,  0.00000000e+00],\n",
       "       [ 3.94036198e+00,  1.20638399e+01,  0.00000000e+00],\n",
       "       [ 3.92684603e+00,  1.00814047e+01,  0.00000000e+00],\n",
       "       [-0.00000000e+00,  1.20638247e+01, -0.00000000e+00],\n",
       "       [ 2.30000005e-05,  1.00829639e+01,  0.00000000e+00],\n",
       "       [-0.00000000e+00,  1.44464159e+01, -0.00000000e+00],\n",
       "       [ 3.95072007e+00,  1.44409637e+01,  0.00000000e+00],\n",
       "       [ 4.02467394e+00,  1.20638475e+01,  0.00000000e+00],\n",
       "       [ 3.95072007e+00,  1.67409592e+01,  0.00000000e+00],\n",
       "       [-0.00000000e+00,  1.67463989e+01, -0.00000000e+00],\n",
       "       [ 4.02466917e+00,  1.44409637e+01,  0.00000000e+00],\n",
       "       [ 4.07397604e+00,  1.44409637e+01,  0.00000000e+00],\n",
       "       [ 4.07397604e+00,  1.20638475e+01,  0.00000000e+00],\n",
       "       [ 3.95072007e+00,  1.90409546e+01,  0.00000000e+00],\n",
       "       [-0.00000000e+00,  1.90464039e+01, -0.00000000e+00],\n",
       "       [-0.00000000e+00,  2.06213741e+01, -0.00000000e+00],\n",
       "       [ 3.96837592e+00,  2.06213741e+01,  0.00000000e+00],\n",
       "       [ 4.02466917e+00,  1.67409592e+01,  0.00000000e+00],\n",
       "       [ 4.07397604e+00,  1.67409592e+01,  0.00000000e+00],\n",
       "       [ 4.07396889e+00,  1.90409546e+01,  0.00000000e+00],\n",
       "       [ 4.02466917e+00,  1.90409546e+01,  0.00000000e+00],\n",
       "       [ 4.02466917e+00,  2.06213741e+01,  0.00000000e+00],\n",
       "       [ 4.07396889e+00,  2.06213741e+01,  0.00000000e+00],\n",
       "       [-3.88685703e+00,  1.00845070e+01, -0.00000000e+00],\n",
       "       [-4.06853485e+00,  1.20419016e+01, -0.00000000e+00],\n",
       "       [-4.09358788e+00,  1.00845890e+01, -0.00000000e+00],\n",
       "       [-3.91857004e+00,  1.20638533e+01, -0.00000000e+00],\n",
       "       [-0.00000000e+00,  1.20638247e+01, -0.00000000e+00],\n",
       "       [ 2.30000005e-05,  1.00829639e+01,  0.00000000e+00],\n",
       "       [-0.00000000e+00,  1.44464159e+01, -0.00000000e+00],\n",
       "       [-3.91857004e+00,  1.44518614e+01, -0.00000000e+00],\n",
       "       [-0.00000000e+00,  1.67463989e+01, -0.00000000e+00],\n",
       "       [-4.04216480e+00,  1.44518614e+01, -0.00000000e+00],\n",
       "       [-4.04216480e+00,  1.20638475e+01, -0.00000000e+00],\n",
       "       [-3.91857004e+00,  1.67518673e+01, -0.00000000e+00],\n",
       "       [-0.00000000e+00,  1.90464039e+01, -0.00000000e+00],\n",
       "       [-4.05880594e+00,  1.44518614e+01, -0.00000000e+00],\n",
       "       [-4.05880594e+00,  1.20638475e+01, -0.00000000e+00],\n",
       "       [-4.05880594e+00,  1.67518673e+01, -0.00000000e+00],\n",
       "       [-3.91858196e+00,  1.90518532e+01, -0.00000000e+00],\n",
       "       [-0.00000000e+00,  2.06213741e+01, -0.00000000e+00],\n",
       "       [-3.91858196e+00,  2.06213741e+01, -0.00000000e+00],\n",
       "       [-4.04217291e+00,  2.06213741e+01, -0.00000000e+00],\n",
       "       [-4.04216480e+00,  1.67518673e+01, -0.00000000e+00],\n",
       "       [-4.04217815e+00,  1.90518532e+01, -0.00000000e+00],\n",
       "       [-4.05881405e+00,  2.06213741e+01, -0.00000000e+00],\n",
       "       [-4.05881405e+00,  1.90518532e+01, -0.00000000e+00],\n",
       "       [ 4.77202797e+00,  6.99705791e+00,  0.00000000e+00],\n",
       "       [ 4.55042005e-01,  6.08256721e+00, -3.09000001e-03],\n",
       "       [ 8.41889977e-01,  4.75510597e+00, -3.09000001e-03],\n",
       "       [ 4.43575716e+00,  7.75616312e+00,  0.00000000e+00],\n",
       "       [ 2.26826996e-01,  7.43484116e+00, -3.09000001e-03],\n",
       "       [ 4.83102226e+00,  7.03125286e+00,  0.00000000e+00],\n",
       "       [ 4.16991282e+00,  8.46958542e+00,  0.00000000e+00],\n",
       "       [ 9.82439965e-02,  8.83252621e+00, -1.44499994e-03],\n",
       "       [ 4.51362085e+00,  7.78831816e+00,  0.00000000e+00],\n",
       "       [ 4.85962677e+00,  7.04783392e+00,  0.00000000e+00],\n",
       "       [ 4.53858376e+00,  7.79862499e+00,  0.00000000e+00],\n",
       "       [ 4.28754902e+00,  8.50094318e+00,  0.00000000e+00],\n",
       "       [ 4.26609182e+00,  8.49522305e+00,  0.00000000e+00],\n",
       "       [ 4.15454197e+00,  9.33802700e+00,  0.00000000e+00],\n",
       "       [ 4.16746283e+00,  9.33966637e+00,  0.00000000e+00],\n",
       "       [ 4.05566216e+00,  1.00813532e+01,  0.00000000e+00],\n",
       "       [ 4.04996586e+00,  1.00813551e+01,  0.00000000e+00],\n",
       "       [ 4.04392195e+00,  9.32399368e+00,  0.00000000e+00],\n",
       "       [ 3.92684603e+00,  1.00814047e+01,  0.00000000e+00],\n",
       "       [ 2.30000005e-05,  1.00829639e+01, -0.00000000e+00],\n",
       "       [-3.86564398e+00,  8.34132957e+00, -0.00000000e+00],\n",
       "       [-3.88685703e+00,  1.00845070e+01, -0.00000000e+00],\n",
       "       [-4.09358788e+00,  1.00845890e+01, -0.00000000e+00],\n",
       "       [-4.04279089e+00,  8.31958580e+00, -0.00000000e+00],\n",
       "       [-3.77505302e+00,  6.34845495e+00, -0.00000000e+00],\n",
       "       [-3.91761899e+00,  6.31045103e+00, -0.00000000e+00],\n",
       "       [-3.30201387e+00,  4.57675219e+00, -0.00000000e+00],\n",
       "       [-3.43909001e+00,  4.52030897e+00, -0.00000000e+00],\n",
       "       [-2.52918100e+00,  2.74240994e+00, -0.00000000e+00],\n",
       "       [-2.66043091e+00,  2.66633201e+00, -0.00000000e+00],\n",
       "       [ 8.41889977e-01,  4.75510597e+00, -3.09000001e-03],\n",
       "       [ 4.55042005e-01,  6.08256721e+00, -3.09000001e-03],\n",
       "       [ 2.26826996e-01,  7.43484116e+00, -3.09000001e-03],\n",
       "       [ 9.82439965e-02,  8.83252621e+00, -1.44499994e-03],\n",
       "       [ 2.30000005e-05,  1.00829639e+01, -0.00000000e+00],\n",
       "       [ 5.73130226e+00,  5.75549984e+00, -0.00000000e+00],\n",
       "       [ 1.53533101e+00,  3.58728790e+00, -3.09000001e-03],\n",
       "       [ 2.47722602e+00,  2.47720194e+00, -3.09000001e-03],\n",
       "       [ 4.77202797e+00,  6.99705791e+00,  0.00000000e+00],\n",
       "       [ 8.41889977e-01,  4.75510597e+00, -3.09000001e-03],\n",
       "       [ 5.23704910e+00,  6.39127779e+00, -0.00000000e+00],\n",
       "       [ 5.77349997e+00,  5.79769802e+00, -0.00000000e+00],\n",
       "       [ 4.83102226e+00,  7.03125286e+00,  0.00000000e+00],\n",
       "       [ 5.28778315e+00,  6.42972422e+00, -0.00000000e+00],\n",
       "       [ 5.80561686e+00,  5.82984114e+00, -0.00000000e+00],\n",
       "       [ 4.85962677e+00,  7.04783392e+00,  0.00000000e+00],\n",
       "       [ 5.31850624e+00,  6.45300484e+00, -0.00000000e+00],\n",
       "       [ 3.55802393e+00,  1.53523600e+00, -3.09000001e-03],\n",
       "       [ 4.72031403e+00,  8.41744006e-01, -3.09000001e-03],\n",
       "       [ 6.97518015e+00,  4.79390907e+00,  0.00000000e+00],\n",
       "       [ 6.36940718e+00,  5.25892925e+00, -0.00000000e+00],\n",
       "       [ 7.00937510e+00,  4.85290194e+00,  0.00000000e+00],\n",
       "       [ 6.40784788e+00,  5.30966377e+00, -0.00000000e+00],\n",
       "       [ 5.80564117e+00,  5.82981682e+00, -0.00000000e+00],\n",
       "       [ 7.02595377e+00,  4.88150787e+00,  0.00000000e+00],\n",
       "       [ 6.43112898e+00,  5.34038591e+00, -0.00000000e+00],\n",
       "       [ 2.47722602e+00,  2.47720194e+00, -3.09000001e-03],\n",
       "       [-1.61713195e+00,  1.21670997e+00, -0.00000000e+00],\n",
       "       [-3.74841988e-01, -3.38555992e-01, -0.00000000e+00],\n",
       "       [ 1.53533101e+00,  3.58728790e+00, -3.09000001e-03],\n",
       "       [-2.52918100e+00,  2.74240994e+00, -0.00000000e+00],\n",
       "       [ 8.41889977e-01,  4.75510597e+00, -3.09000001e-03],\n",
       "       [-2.66043091e+00,  2.66633201e+00, -0.00000000e+00],\n",
       "       [-1.73570895e+00,  1.12664402e+00, -0.00000000e+00],\n",
       "       [-4.79761004e-01, -4.43471014e-01, -0.00000000e+00],\n",
       "       [ 1.10476601e+00, -1.71382904e+00, -0.00000000e+00],\n",
       "       [ 1.19485402e+00, -1.59525204e+00, -0.00000000e+00],\n",
       "       [ 2.64446306e+00, -2.63855004e+00,  0.00000000e+00],\n",
       "       [ 2.72054601e+00, -2.50729990e+00,  0.00000000e+00],\n",
       "       [ 3.55802393e+00,  1.53523600e+00, -3.09000001e-03],\n",
       "       [ 4.72031403e+00,  8.41744006e-01, -3.09000001e-03],\n",
       "       [ 6.04663897e+00,  4.54795003e-01, -3.09000001e-03],\n",
       "       [ 6.97518015e+00,  4.79390907e+00,  0.00000000e+00],\n",
       "       [ 4.72031403e+00,  8.41744006e-01, -3.09000001e-03],\n",
       "       [ 7.73428202e+00,  4.45763683e+00,  0.00000000e+00],\n",
       "       [ 7.00937510e+00,  4.85290194e+00,  0.00000000e+00],\n",
       "       [ 7.41831017e+00,  2.26531997e-01, -3.09000001e-03],\n",
       "       [ 7.76643705e+00,  4.53550196e+00,  0.00000000e+00],\n",
       "       [ 7.02595377e+00,  4.88150787e+00,  0.00000000e+00],\n",
       "       [ 7.77674580e+00,  4.56046391e+00,  0.00000000e+00],\n",
       "       [ 8.47906303e+00,  4.30943012e+00,  0.00000000e+00],\n",
       "       [ 8.44770527e+00,  4.19179296e+00,  0.00000000e+00],\n",
       "       [ 8.81066895e+00,  1.20108001e-01, -1.44499994e-03],\n",
       "       [ 8.47334290e+00,  4.28797197e+00,  0.00000000e+00],\n",
       "       [ 9.30211544e+00,  4.06580210e+00,  0.00000000e+00],\n",
       "       [ 1.00610828e+01,  2.19030008e-02,  0.00000000e+00],\n",
       "       [ 1.00595198e+01,  3.94872594e+00,  0.00000000e+00],\n",
       "       [ 1.00594749e+01,  4.07184601e+00,  0.00000000e+00],\n",
       "       [ 9.31614590e+00,  4.17642212e+00,  0.00000000e+00],\n",
       "       [ 9.31778336e+00,  4.18934298e+00,  0.00000000e+00],\n",
       "       [ 1.00594721e+01,  4.07754183e+00,  0.00000000e+00],\n",
       "       [ 8.31944847e+00, -3.84376407e+00,  0.00000000e+00],\n",
       "       [ 1.00627079e+01, -4.07170820e+00,  0.00000000e+00],\n",
       "       [ 1.00626240e+01, -3.86497593e+00,  0.00000000e+00],\n",
       "       [ 8.29770565e+00, -4.02091122e+00,  0.00000000e+00],\n",
       "       [ 6.32658291e+00, -3.75317287e+00,  0.00000000e+00],\n",
       "       [ 6.28857517e+00, -3.89573908e+00,  0.00000000e+00],\n",
       "       [ 4.55488396e+00, -3.28013396e+00,  0.00000000e+00],\n",
       "       [ 4.49841309e+00, -3.41720891e+00,  0.00000000e+00],\n",
       "       [ 2.72054601e+00, -2.50729990e+00,  0.00000000e+00],\n",
       "       [ 2.64446306e+00, -2.63855004e+00,  0.00000000e+00],\n",
       "       [ 4.72031403e+00,  8.41744006e-01, -3.09000001e-03],\n",
       "       [ 6.04663897e+00,  4.54795003e-01, -3.09000001e-03],\n",
       "       [ 7.41831017e+00,  2.26531997e-01, -3.09000001e-03],\n",
       "       [ 8.81066895e+00,  1.20108001e-01, -1.44499994e-03],\n",
       "       [ 1.00610828e+01,  2.19030008e-02,  0.00000000e+00],\n",
       "       [ 1.20419455e+01,  4.08068609e+00,  0.00000000e+00],\n",
       "       [ 1.00594721e+01,  4.07754183e+00,  0.00000000e+00],\n",
       "       [ 1.20419455e+01,  4.07547903e+00,  0.00000000e+00],\n",
       "       [ 1.00594749e+01,  4.07184601e+00,  0.00000000e+00],\n",
       "       [ 1.20419636e+01,  3.96224308e+00,  0.00000000e+00],\n",
       "       [ 1.00595198e+01,  3.94872594e+00,  0.00000000e+00],\n",
       "       [ 1.20419483e+01,  2.18800008e-02,  0.00000000e+00],\n",
       "       [ 1.00610828e+01,  2.19030008e-02,  0.00000000e+00],\n",
       "       [ 1.44245195e+01,  2.18800008e-02,  0.00000000e+00],\n",
       "       [ 1.44190674e+01,  3.97259998e+00,  0.00000000e+00],\n",
       "       [ 1.20419703e+01,  4.04655504e+00,  0.00000000e+00],\n",
       "       [ 1.67190647e+01,  3.97259998e+00,  0.00000000e+00],\n",
       "       [ 1.67244987e+01,  2.18800008e-02,  0.00000000e+00],\n",
       "       [ 1.44190674e+01,  4.04654884e+00,  0.00000000e+00],\n",
       "       [ 1.44190674e+01,  4.09585714e+00,  0.00000000e+00],\n",
       "       [ 1.20419703e+01,  4.09585714e+00,  0.00000000e+00],\n",
       "       [ 1.90190735e+01,  3.97259998e+00,  0.00000000e+00],\n",
       "       [ 1.90245190e+01,  2.18800008e-02,  0.00000000e+00],\n",
       "       [ 2.05994682e+01,  2.18800008e-02,  0.00000000e+00],\n",
       "       [ 2.05994682e+01,  3.99025607e+00,  0.00000000e+00],\n",
       "       [ 1.67190647e+01,  4.04654884e+00,  0.00000000e+00],\n",
       "       [ 1.67190647e+01,  4.09585714e+00,  0.00000000e+00],\n",
       "       [ 1.90190735e+01,  4.09584999e+00,  0.00000000e+00],\n",
       "       [ 1.90190735e+01,  4.04654884e+00,  0.00000000e+00],\n",
       "       [ 2.05994644e+01,  4.04654884e+00,  0.00000000e+00],\n",
       "       [ 2.05994644e+01,  4.09584999e+00,  0.00000000e+00],\n",
       "       [ 1.20200233e+01, -4.04665518e+00,  0.00000000e+00],\n",
       "       [ 1.00626240e+01, -3.86497593e+00,  0.00000000e+00],\n",
       "       [ 1.00627079e+01, -4.07170820e+00,  0.00000000e+00],\n",
       "       [ 1.20419760e+01, -3.89668894e+00,  0.00000000e+00],\n",
       "       [ 1.20419483e+01,  2.18800008e-02,  0.00000000e+00],\n",
       "       [ 1.00610828e+01,  2.19030008e-02,  0.00000000e+00],\n",
       "       [ 1.44245195e+01,  2.18800008e-02,  0.00000000e+00],\n",
       "       [ 1.44299641e+01, -3.89668894e+00,  0.00000000e+00],\n",
       "       [ 1.67244987e+01,  2.18800008e-02,  0.00000000e+00],\n",
       "       [ 1.44299641e+01, -4.02028513e+00,  0.00000000e+00],\n",
       "       [ 1.20419703e+01, -4.02028513e+00,  0.00000000e+00],\n",
       "       [ 1.67299671e+01, -3.89668894e+00,  0.00000000e+00],\n",
       "       [ 1.90245190e+01,  2.18800008e-02,  0.00000000e+00],\n",
       "       [ 1.44299641e+01, -4.03692579e+00,  0.00000000e+00],\n",
       "       [ 1.20419703e+01, -4.03692579e+00,  0.00000000e+00],\n",
       "       [ 1.67299671e+01, -4.03692579e+00,  0.00000000e+00],\n",
       "       [ 1.67299671e+01, -4.02028513e+00,  0.00000000e+00],\n",
       "       [ 1.90299988e+01, -3.89670086e+00,  0.00000000e+00],\n",
       "       [ 2.05994682e+01,  2.18800008e-02,  0.00000000e+00],\n",
       "       [ 2.05994682e+01, -3.89670086e+00,  0.00000000e+00],\n",
       "       [ 2.05994682e+01, -4.02029324e+00,  0.00000000e+00],\n",
       "       [ 1.90299988e+01, -4.02029705e+00,  0.00000000e+00],\n",
       "       [ 1.90299988e+01, -4.03693295e+00,  0.00000000e+00],\n",
       "       [ 2.05994682e+01, -4.03693295e+00,  0.00000000e+00]])"
      ]
     },
     "execution_count": 11,
     "metadata": {},
     "output_type": "execute_result"
    }
   ],
   "source": [
    "np.array(road.vertices)"
   ]
  },
  {
   "cell_type": "code",
   "execution_count": 12,
   "id": "415877e6",
   "metadata": {},
   "outputs": [],
   "source": [
    "\n",
    "\n",
    "scene = o3d.t.geometry.RaycastingScene()\n",
    "road_tri = o3d.t.geometry.TriangleMesh.from_legacy(road)\n",
    "road_id = scene.add_triangles(road_tri)\n",
    "\n",
    "quires = []\n",
    "for v in np.array(mesh.vertices):\n",
    "    quires.append([v[0], v[1], v[2] + 10, 0, 0, -1])\n",
    "rays = o3d.core.Tensor(quires, dtype=o3d.core.Dtype.Float32)\n",
    "\n",
    "ans = scene.cast_rays(rays)\n",
    "\n",
    "collide = list(set(ans['primitive_ids'].numpy()))\n",
    "if scene.INVALID_ID in collide:\n",
    "    print(\"outside of boundary!\")\n",
    "\n",
    "border = []\n",
    "for c in collide:\n",
    "        \n",
    "    for i,j in [[0,1], [1,2], [2,0]]:\n",
    "        s = min(road.triangles[c][i], road.triangles[c][j])\n",
    "        e = max(road.triangles[c][i], road.triangles[c][j])\n",
    "        if (s, e) in border:\n",
    "            border.remove((s,e))\n",
    "        else:\n",
    "            border.append((s,e))\n",
    "\n",
    "border_lines = o3d.geometry.LineSet(\n",
    "    points=o3d.utility.Vector3dVector(road.vertices),\n",
    "    lines=o3d.utility.Vector2iVector(np.array(border)),\n",
    ")\n",
    "road.triangles = o3d.utility.Vector3iVector(np.delete(np.asarray(road.triangles), collide, axis=0))\n"
   ]
  },
  {
   "cell_type": "code",
   "execution_count": 13,
   "id": "6ef77c8e",
   "metadata": {},
   "outputs": [],
   "source": [
    "o3d.visualization.draw_geometries([mesh, coord, mesh_lines, road, border_lines])\n"
   ]
  },
  {
   "cell_type": "code",
   "execution_count": 14,
   "id": "ae48db1e",
   "metadata": {},
   "outputs": [],
   "source": [
    "# q_pts"
   ]
  },
  {
   "cell_type": "code",
   "execution_count": 15,
   "id": "c7696494",
   "metadata": {},
   "outputs": [],
   "source": [
    "# B['vertices']"
   ]
  },
  {
   "cell_type": "code",
   "execution_count": 16,
   "id": "908273e4",
   "metadata": {},
   "outputs": [],
   "source": [
    "all_verts = np.vstack([road.vertices, mesh.vertices])\n",
    "\n",
    "offset = np.array(road.vertices).shape[0]\n",
    "tmp_id = np.array([ [indices[L][U], indices[L][D]], \n",
    "                    [indices[L][D], indices[R][D]],\n",
    "                    [indices[R][D], indices[R][U]], \n",
    "                    [indices[R][U], indices[L][U]]\n",
    "                  ])\n",
    "border_edge_id = np.vstack([border, tmp_id+offset])\n",
    "\n"
   ]
  },
  {
   "cell_type": "code",
   "execution_count": 17,
   "id": "022ef37c",
   "metadata": {},
   "outputs": [
    {
     "data": {
      "image/png": "[encoded data removed]",
      "text/plain": [
       "<Figure size 600x300 with 2 Axes>"
      ]
     },
     "metadata": {},
     "output_type": "display_data"
    },
    {
     "data": {
      "text/plain": [
       "<Figure size 2000x2000 with 0 Axes>"
      ]
     },
     "metadata": {},
     "output_type": "display_data"
    }
   ],
   "source": [
    "origin_idx = list(set(border_edge_id.flatten().tolist()))\n",
    "query_idx = {origin_idx[i]:i for i in range(len(origin_idx))}\n",
    "\n",
    "q_pts = []\n",
    "q_seg = []\n",
    "\n",
    "for i in origin_idx:\n",
    "    q_pts.append(all_verts[i][:2])\n",
    "q_pts = np.array(q_pts)\n",
    "\n",
    "for bd in border_edge_id:\n",
    "    q_seg.append([query_idx[bd[0]], query_idx[bd[1]]])\n",
    "q_seg = np.array(q_seg)\n",
    "\n",
    "A = dict(vertices=q_pts, segments=q_seg, holes=[mesh_lines.get_center()[:2]])\n",
    "B = tr.triangulate(A, 'p')\n",
    "tr.compare(plt, A, B)\n",
    "plt.figure(figsize=(20,20))\n",
    "\n",
    "plt.show()"
   ]
  },
  {
   "cell_type": "code",
   "execution_count": 18,
   "id": "6b1ff41f",
   "metadata": {},
   "outputs": [],
   "source": [
    "tmp_id = np.vstack((B['triangles'][:, [0, 1]], B['triangles'][:, [1, 2]], B['triangles'][:, [2, 0]]))\n",
    "delaunay_edges = np.array(origin_idx)[tmp_id]\n"
   ]
  },
  {
   "cell_type": "code",
   "execution_count": 19,
   "id": "4b8046da",
   "metadata": {},
   "outputs": [],
   "source": [
    "tmp_id = np.vstack((B['triangles'][:, [0, 1]], B['triangles'][:, [1, 2]], B['triangles'][:, [2, 0]]))\n",
    "delaunay_edges = np.array(origin_idx)[tmp_id]\n",
    "\n",
    "delaunay_lines = o3d.geometry.LineSet(\n",
    "    points=o3d.utility.Vector3dVector( all_verts ),\n",
    "    lines=o3d.utility.Vector2iVector( delaunay_edges ),\n",
    ")"
   ]
  },
  {
   "cell_type": "code",
   "execution_count": 20,
   "id": "1667eb9a",
   "metadata": {},
   "outputs": [
    {
     "data": {
      "text/plain": [
       "array([[115, 118],\n",
       "       [117, 120],\n",
       "       [120, 121],\n",
       "       [118, 121],\n",
       "       [114, 115],\n",
       "       [114, 117],\n",
       "       [270, 271],\n",
       "       [271, 272],\n",
       "       [272, 273],\n",
       "       [273, 270]])"
      ]
     },
     "execution_count": 20,
     "metadata": {},
     "output_type": "execute_result"
    }
   ],
   "source": [
    "border_edge_id"
   ]
  },
  {
   "cell_type": "code",
   "execution_count": 21,
   "id": "e1007c2c",
   "metadata": {},
   "outputs": [],
   "source": [
    "o3d.visualization.draw_geometries([mesh, coord, mesh_lines, road, delaunay_lines])\n"
   ]
  },
  {
   "cell_type": "code",
   "execution_count": 22,
   "id": "eeb194ca",
   "metadata": {},
   "outputs": [],
   "source": [
    "new_road = o3d.geometry.TriangleMesh()\n",
    "new_road.vertices = o3d.utility.Vector3dVector(all_verts)\n",
    "\n",
    "new_tris = np.vstack([road.triangles, np.array(mesh.triangles) + offset, np.array(origin_idx)[np.array(B['triangles'])]])\n",
    "new_road.triangles = o3d.utility.Vector3iVector(new_tris)\n",
    "\n",
    "triangles = np.asarray(new_road.triangles)\n",
    "new_edges = np.vstack((triangles[:, [0, 1]], triangles[:, [1, 2]], triangles[:, [2, 0]]))\n",
    "new_lines = o3d.geometry.LineSet(\n",
    "    points=o3d.utility.Vector3dVector(new_road.vertices),\n",
    "    lines=o3d.utility.Vector2iVector(new_edges),\n",
    ")\n",
    "o3d.visualization.draw_geometries([new_road, coord, new_lines])\n"
   ]
  },
  {
   "cell_type": "code",
   "execution_count": 23,
   "id": "c6725095",
   "metadata": {},
   "outputs": [
    {
     "data": {
      "text/plain": [
       "True"
      ]
     },
     "execution_count": 23,
     "metadata": {},
     "output_type": "execute_result"
    }
   ],
   "source": [
    "o3d.io.write_triangle_mesh(\"new_road.ply\", new_road)\n"
   ]
  },
  {
   "cell_type": "code",
   "execution_count": 24,
   "id": "83e041e5",
   "metadata": {},
   "outputs": [
    {
     "data": {
      "text/plain": [
       "std::vector<Eigen::Vector3i> with 316 elements.\n",
       "Use numpy.asarray() to access data."
      ]
     },
     "execution_count": 24,
     "metadata": {},
     "output_type": "execute_result"
    }
   ],
   "source": [
    "import sys\n",
    "CUR_PATH = os.getcwd()\n",
    "FOLDER_PATH = os.path.join(CUR_PATH, \"RoadPitMesh\")\n",
    "PIT_LIST = os.listdir(os.path.join(CUR_PATH, \"PitMesh\")) \n",
    "# PIT_LIST\n",
    "road.triangles"
   ]
  },
  {
   "cell_type": "code",
   "execution_count": 25,
   "id": "9f4dd1ae",
   "metadata": {},
   "outputs": [],
   "source": [
    "# import matplotlib.pyplot as plt\n",
    "# import numpy as np\n",
    "\n",
    "# import triangle as tr\n",
    "\n",
    "\n",
    "# def circle(N, R):\n",
    "#     i = np.arange(N)\n",
    "#     theta = i * 2 * np.pi / N\n",
    "#     pts = np.stack([np.cos(theta), np.sin(theta)], axis=1) * R\n",
    "#     seg = np.stack([i, i + 1], axis=1) % N\n",
    "#     return pts, seg\n",
    "\n",
    "\n",
    "# pts0, seg0 = circle(30, 1.4)\n",
    "# pts1, seg1 = circle(16, 0.6)\n",
    "# pts = np.vstack([pts0, pts1])\n",
    "# seg = np.vstack([seg0, seg1 + seg0.shape[0]])\n",
    "\n",
    "# A = dict(vertices=pts, segments=seg, holes=[[0, 0]])\n",
    "# B = tr.triangulate(A, 'qpa0.05')\n",
    "# tr.compare(plt, A, B)\n",
    "# plt.show()"
   ]
  },
  {
   "cell_type": "code",
   "execution_count": 26,
   "id": "dc8bf366",
   "metadata": {
    "scrolled": true
   },
   "outputs": [],
   "source": [
    "# import matplotlib.pyplot as plt\n",
    "# import numpy as np\n",
    "\n",
    "# import triangle as tr\n",
    "\n",
    "\n",
    "# pts = np.array([[0,0], [5,0], [4,3], [2,6]])\n",
    "# seg = np.array([[0,1],[1,2],[2,0]])\n",
    "\n",
    "# A = dict(vertices=pts, segments=seg)\n",
    "# B = tr.triangulate(A, 'qpa0.5')\n",
    "# tr.compare(plt, A, B)\n",
    "# plt.show()"
   ]
  },
  {
   "cell_type": "code",
   "execution_count": 27,
   "id": "22fbd671",
   "metadata": {
    "scrolled": true
   },
   "outputs": [
    {
     "data": {
      "text/plain": [
       "{'vertices': array([[3.08550157, 7.60060598],\n",
       "        [2.01482383, 8.08567754],\n",
       "        [1.70659081, 7.26596412],\n",
       "        [2.69070806, 6.77122932],\n",
       "        [4.77202797, 6.99705791],\n",
       "        [0.455042  , 6.08256721],\n",
       "        [4.43575716, 7.75616312],\n",
       "        [0.226827  , 7.43484116],\n",
       "        [4.16991282, 8.46958542],\n",
       "        [0.098244  , 8.83252621]]),\n",
       " 'vertex_markers': array([[1],\n",
       "        [1],\n",
       "        [1],\n",
       "        [1],\n",
       "        [1],\n",
       "        [1],\n",
       "        [1],\n",
       "        [1],\n",
       "        [1],\n",
       "        [1]], dtype=int32),\n",
       " 'triangles': array([[5, 2, 7],\n",
       "        [2, 5, 3],\n",
       "        [9, 7, 1],\n",
       "        [1, 7, 2],\n",
       "        [9, 1, 8],\n",
       "        [3, 4, 0],\n",
       "        [4, 3, 5],\n",
       "        [0, 6, 8],\n",
       "        [6, 0, 4],\n",
       "        [0, 8, 1]], dtype=int32),\n",
       " 'segments': array([[5, 7],\n",
       "        [6, 8],\n",
       "        [9, 8],\n",
       "        [7, 9],\n",
       "        [4, 5],\n",
       "        [4, 6],\n",
       "        [1, 0],\n",
       "        [2, 1],\n",
       "        [3, 2],\n",
       "        [0, 3]], dtype=int32),\n",
       " 'segment_markers': array([[1],\n",
       "        [1],\n",
       "        [1],\n",
       "        [1],\n",
       "        [1],\n",
       "        [1],\n",
       "        [1],\n",
       "        [1],\n",
       "        [1],\n",
       "        [1]], dtype=int32),\n",
       " 'holes': array([[2.36334404, 7.42709484]])}"
      ]
     },
     "execution_count": 27,
     "metadata": {},
     "output_type": "execute_result"
    }
   ],
   "source": [
    "B"
   ]
  },
  {
   "cell_type": "code",
   "execution_count": 28,
   "id": "0f0e643b",
   "metadata": {},
   "outputs": [
    {
     "data": {
      "text/plain": [
       "<function numpy.concatenate>"
      ]
     },
     "execution_count": 28,
     "metadata": {},
     "output_type": "execute_result"
    }
   ],
   "source": [
    "np.concatenate"
   ]
  },
  {
   "cell_type": "code",
   "execution_count": 29,
   "id": "f05f9e8f",
   "metadata": {},
   "outputs": [],
   "source": [
    "road = o3d.io.read_triangle_mesh(\"/home/mias/Datasets/CarlaRoads/part_of_Town01.obj\")\n",
    "road.remove_duplicated_vertices()\n",
    "road.vertices = o3d.utility.Vector3dVector(np.array(road.vertices)[:, [2,0,1]] / 100)\n",
    "\n",
    "triangles = np.asarray(road.triangles)\n",
    "road_edges = np.vstack((triangles[:, [0, 1]], triangles[:, [1, 2]], triangles[:, [2, 0]]))\n",
    "\n",
    "\n",
    "mesh = o3d.geometry.TriangleMesh()\n",
    "\n",
    "\n",
    "Xs = np.array(road.vertices)[:,0]\n",
    "Ys = np.array(road.vertices)[:,1]\n",
    "RoadBoundary = [Xs.min(), Xs.max(), Ys.min(), Ys.max()]"
   ]
  },
  {
   "cell_type": "code",
   "execution_count": 30,
   "id": "92734666",
   "metadata": {},
   "outputs": [],
   "source": [
    "generated = 0\n",
    "CUR_PATH = os.path.dirname(os.path.curdir)\n",
    "PIT_LIST = os.listdir(os.path.join(CUR_PATH, \"PitMesh\")) \n",
    "\n",
    "collision_manager = trimesh.collision.CollisionManager()\n",
    "new_road = o3d.geometry.TriangleMesh()\n"
   ]
  },
  {
   "cell_type": "code",
   "execution_count": null,
   "id": "6e48bb69",
   "metadata": {},
   "outputs": [],
   "source": []
  },
  {
   "cell_type": "code",
   "execution_count": null,
   "id": "1438d4e2",
   "metadata": {},
   "outputs": [],
   "source": []
  },
  {
   "cell_type": "code",
   "execution_count": 31,
   "id": "55a3d47e",
   "metadata": {},
   "outputs": [
    {
     "data": {
      "text/plain": [
       "[-0.04093587875366211,\n",
       " 0.2059946823120117,\n",
       " -0.04071708202362061,\n",
       " 0.28731330871582034]"
      ]
     },
     "execution_count": 31,
     "metadata": {},
     "output_type": "execute_result"
    }
   ],
   "source": [
    "RoadBoundary"
   ]
  },
  {
   "cell_type": "code",
   "execution_count": null,
   "id": "47ecc632",
   "metadata": {},
   "outputs": [],
   "source": []
  },
  {
   "cell_type": "code",
   "execution_count": 32,
   "id": "6799c611",
   "metadata": {
    "scrolled": true
   },
   "outputs": [
    {
     "name": "stdout",
     "output_type": "stream",
     "text": [
      "lp 2_10_0.ply\n",
      "  x -0.0025119230164254436\n",
      "  y 0.05608834542172722\n",
      "  yaw 2.780332195453463\n",
      "outside of map!\n",
      "lp 2_19_0.ply\n",
      "  x -0.015581371908870871\n",
      "  y 0.23812023446591213\n",
      "  yaw 1.6713885339261105\n",
      "collision\n",
      "lp 2_03_0.ply\n",
      "  x 0.11863513722887378\n",
      "  y 0.11724735999774998\n",
      "  yaw 2.9419352958248304\n",
      "collision\n",
      "lp 2_07_0.ply\n",
      "  x 0.021562956740686305\n",
      "  y 0.01976950420533797\n",
      "  yaw 0.7818656633842885\n",
      "collision\n",
      "lp 2_10_0.ply\n",
      "  x 0.16184185845198656\n",
      "  y 0.04034153822573333\n",
      "  yaw 2.363117712333086\n",
      "collision\n",
      "lp 2_14_0.ply\n",
      "  x 0.08530417456825795\n",
      "  y -0.0069822888807930805\n",
      "  yaw 1.821176239741717\n",
      "collision\n",
      "lp 2_11_0.ply\n",
      "  x 0.07661488345991335\n",
      "  y 0.01710773938154024\n",
      "  yaw 1.9897180842317168\n",
      "collision\n",
      "lp 2_08_0.ply\n",
      "  x 0.19761728226580055\n",
      "  y 0.21408341883964932\n",
      "  yaw 0.06334322782030491\n",
      "collision\n",
      "lp 2_12_0.ply\n",
      "  x 0.15446364576616428\n",
      "  y 0.1505927808323803\n",
      "  yaw 2.7416428588874227\n",
      "collision\n",
      "lp 2_21_0.ply\n",
      "  x 0.15384785709260757\n",
      "  y 0.2041795110335649\n",
      "  yaw 2.1432980984682675\n",
      "collision\n"
     ]
    }
   ],
   "source": [
    "for i in range(10) :\n",
    "    new_road.clear()\n",
    "    mesh.clear()\n",
    "\n",
    "    pit_name = PIT_LIST[np.random.randint(len(PIT_LIST))]\n",
    "#     pit_name = \"2_39_0.ply\"\n",
    "    print(\"lp\", pit_name)\n",
    "    # for pit_name, (x,y,yaw) in [[\"2_23_0.ply\", (7.837738336454764, 2.402143199257104, 0.5382318404417871)],\n",
    "    #  [\"2_08_0.ply\", (2.244315337618926, -5.715035545233631, 2.1133360462766233)]]:\n",
    "\n",
    "    new_road = o3d.geometry.TriangleMesh(road)\n",
    "    # new_road = o3d.geometry.TriangleMesh()\n",
    "    # new_road.vertices = o3d.utility.Vector3dVector(np.array(road.vertices))\n",
    "    # new_road.triangles = o3d.utility.Vector3iVector(np.array(road.triangles))\n",
    "\n",
    "    x = np.random.uniform(RoadBoundary[0], RoadBoundary[1])\n",
    "    y = np.random.uniform(RoadBoundary[2], RoadBoundary[3])\n",
    "    yaw = np.random.uniform() * np.pi\n",
    "#     x = 29.347967778266245\n",
    "#     y = 392.47474833888293\n",
    "#     yaw = 0.3696402171284399\n",
    "\n",
    "    print(\"  x\", x)\n",
    "    print(\"  y\", y)\n",
    "    print(\"  yaw\", yaw)\n",
    "\n",
    "    mesh = o3d.io.read_triangle_mesh(os.path.join(CUR_PATH, \"PitMesh\", pit_name))\n",
    "\n",
    "    mesh.translate((x, y, 0))\n",
    "    Rot = mesh.get_rotation_matrix_from_xyz((0, 0, yaw))\n",
    "    mesh.rotate(Rot, center=mesh.get_center())\n",
    "\n",
    "    test0 = trimesh.base.Trimesh(vertices=np.array(mesh.vertices)[:4], faces=np.array([[CORNER_LU, CORNER_LD, CORNER_RD], [CORNER_LU, CORNER_RD, CORNER_RU]]))\n",
    "\n",
    "    collision_manager.add_object(str(generated), test0)\n",
    "    if collision_manager.in_collision_internal():\n",
    "        collision_manager.remove_object(str(generated))\n",
    "        print(\"collision\")\n",
    "        continue\n",
    "\n",
    "    triangles = np.asarray(mesh.triangles)\n",
    "    mesh_edges = np.vstack((triangles[:, [0, 1]], triangles[:, [1, 2]], triangles[:, [2, 0]]))\n",
    "\n",
    "    mesh_lines = o3d.geometry.LineSet(\n",
    "        points=o3d.utility.Vector3dVector(mesh.vertices),\n",
    "        lines=o3d.utility.Vector2iVector(mesh_edges),\n",
    "    )\n",
    "\n",
    "    quires = []\n",
    "    for v in np.array(mesh.vertices):\n",
    "        quires.append([v[0], v[1], v[2] + 1000, 0, 0, -1])\n",
    "    rays = o3d.core.Tensor(quires, dtype=o3d.core.Dtype.Float32)\n",
    "\n",
    "    scene = o3d.t.geometry.RaycastingScene()\n",
    "    road_tri = o3d.t.geometry.TriangleMesh.from_legacy(new_road)\n",
    "    road_id = scene.add_triangles(road_tri)\n",
    "\n",
    "    ans = scene.cast_rays(rays)\n",
    "\n",
    "    collide = list(set(ans['primitive_ids'].numpy()))\n",
    "    if scene.INVALID_ID in collide:\n",
    "        print(\"outside of map!\")\n",
    "        continue\n",
    "\n",
    "    border = []\n",
    "    visited = set([])\n",
    "    for c in collide:\n",
    "        for i,j in [[0,1], [1,2], [2,0]]:\n",
    "            s = min(new_road.triangles[c][i], new_road.triangles[c][j])\n",
    "            e = max(new_road.triangles[c][i], new_road.triangles[c][j])\n",
    "            if (s,e) in visited:\n",
    "                border.remove((s,e))\n",
    "#                 print(\"rmv\", s, e)\n",
    "            else:\n",
    "                visited.add((s,e))\n",
    "                border.append((s,e))\n",
    "#                 print('Add', s, e)\n",
    "    border_lines = o3d.geometry.LineSet(\n",
    "        points=o3d.utility.Vector3dVector(new_road.vertices),\n",
    "        lines=o3d.utility.Vector2iVector(np.array(border)),\n",
    "    )\n",
    "#     break\n"
   ]
  },
  {
   "cell_type": "code",
   "execution_count": 33,
   "id": "af6d589d",
   "metadata": {},
   "outputs": [
    {
     "name": "stdout",
     "output_type": "stream",
     "text": [
      "triangles before std::vector<Eigen::Vector3i> with 320 elements.\n",
      "Use numpy.asarray() to access data.\n"
     ]
    },
    {
     "ename": "IndexError",
     "evalue": "index 4294967295 is out of bounds for axis 0 with size 320",
     "output_type": "error",
     "traceback": [
      "\u001b[0;31m---------------------------------------------------------------------------\u001b[0m",
      "\u001b[0;31mIndexError\u001b[0m                                Traceback (most recent call last)",
      "Cell \u001b[0;32mIn [33], line 2\u001b[0m\n\u001b[1;32m      1\u001b[0m \u001b[38;5;28mprint\u001b[39m(  \u001b[38;5;124m\"\u001b[39m\u001b[38;5;124mtriangles before\u001b[39m\u001b[38;5;124m\"\u001b[39m, new_road\u001b[38;5;241m.\u001b[39mtriangles )\n\u001b[0;32m----> 2\u001b[0m new_road\u001b[38;5;241m.\u001b[39mtriangles \u001b[38;5;241m=\u001b[39m o3d\u001b[38;5;241m.\u001b[39mutility\u001b[38;5;241m.\u001b[39mVector3iVector(\u001b[43mnp\u001b[49m\u001b[38;5;241;43m.\u001b[39;49m\u001b[43mdelete\u001b[49m\u001b[43m(\u001b[49m\u001b[43mnp\u001b[49m\u001b[38;5;241;43m.\u001b[39;49m\u001b[43masarray\u001b[49m\u001b[43m(\u001b[49m\u001b[43mnew_road\u001b[49m\u001b[38;5;241;43m.\u001b[39;49m\u001b[43mtriangles\u001b[49m\u001b[43m)\u001b[49m\u001b[43m,\u001b[49m\u001b[43m \u001b[49m\u001b[43mcollide\u001b[49m\u001b[43m,\u001b[49m\u001b[43m \u001b[49m\u001b[43maxis\u001b[49m\u001b[38;5;241;43m=\u001b[39;49m\u001b[38;5;241;43m0\u001b[39;49m\u001b[43m)\u001b[49m)\n\u001b[1;32m      3\u001b[0m \u001b[38;5;28mprint\u001b[39m(  \u001b[38;5;124m\"\u001b[39m\u001b[38;5;124mtriangle after\u001b[39m\u001b[38;5;124m\"\u001b[39m, new_road\u001b[38;5;241m.\u001b[39mtriangles )\n",
      "File \u001b[0;32m<__array_function__ internals>:180\u001b[0m, in \u001b[0;36mdelete\u001b[0;34m(*args, **kwargs)\u001b[0m\n",
      "File \u001b[0;32m~/miniconda3/envs/carla/lib/python3.8/site-packages/numpy/lib/function_base.py:5180\u001b[0m, in \u001b[0;36mdelete\u001b[0;34m(arr, obj, axis)\u001b[0m\n\u001b[1;32m   5178\u001b[0m \u001b[38;5;28;01melse\u001b[39;00m:\n\u001b[1;32m   5179\u001b[0m     keep \u001b[38;5;241m=\u001b[39m ones(N, dtype\u001b[38;5;241m=\u001b[39m\u001b[38;5;28mbool\u001b[39m)\n\u001b[0;32m-> 5180\u001b[0m     \u001b[43mkeep\u001b[49m\u001b[43m[\u001b[49m\u001b[43mobj\u001b[49m\u001b[43m,\u001b[49m\u001b[43m]\u001b[49m \u001b[38;5;241m=\u001b[39m \u001b[38;5;28;01mFalse\u001b[39;00m\n\u001b[1;32m   5182\u001b[0m slobj[axis] \u001b[38;5;241m=\u001b[39m keep\n\u001b[1;32m   5183\u001b[0m new \u001b[38;5;241m=\u001b[39m arr[\u001b[38;5;28mtuple\u001b[39m(slobj)]\n",
      "\u001b[0;31mIndexError\u001b[0m: index 4294967295 is out of bounds for axis 0 with size 320"
     ]
    }
   ],
   "source": [
    "\n",
    "print(  \"triangles before\", new_road.triangles )\n",
    "new_road.triangles = o3d.utility.Vector3iVector(np.delete(np.asarray(new_road.triangles), collide, axis=0))\n",
    "print(  \"triangle after\", new_road.triangles )\n"
   ]
  },
  {
   "cell_type": "code",
   "execution_count": null,
   "id": "d998e383",
   "metadata": {},
   "outputs": [],
   "source": [
    "all_verts = np.vstack([new_road.vertices, mesh.vertices])\n",
    "\n",
    "offset = np.array(new_road.vertices).shape[0]\n",
    "tmp_id = np.array([ [CORNER_LU, CORNER_LD], \n",
    "                    [CORNER_LD, CORNER_RD],\n",
    "                    [CORNER_RD, CORNER_RU], \n",
    "                    [CORNER_RU, CORNER_LU]\n",
    "                ])\n",
    "border_edge_id = np.vstack([border, tmp_id+offset])\n",
    "\n"
   ]
  },
  {
   "cell_type": "code",
   "execution_count": null,
   "id": "5e74a43a",
   "metadata": {},
   "outputs": [],
   "source": []
  },
  {
   "cell_type": "code",
   "execution_count": null,
   "id": "8c67ce4d",
   "metadata": {},
   "outputs": [],
   "source": [
    "origin_lines = o3d.geometry.LineSet(\n",
    "    points=o3d.utility.Vector3dVector( all_verts ),\n",
    "    lines=o3d.utility.Vector2iVector( border_edge_id ),\n",
    ")\n",
    "\n",
    "coord = o3d.geometry.TriangleMesh.create_coordinate_frame(size=3, origin=mesh.get_center())\n",
    "\n",
    "o3d.visualization.draw_geometries([road, mesh_lines, border_lines, coord])"
   ]
  },
  {
   "cell_type": "code",
   "execution_count": null,
   "id": "9bdc12b4",
   "metadata": {},
   "outputs": [],
   "source": [
    "#### triangles solution: Delaunary triangulation\n",
    "origin_idx = list(set(border_edge_id.flatten().tolist()))\n",
    "query_idx = {origin_idx[i]:i for i in range(len(origin_idx))}\n",
    "\n",
    "q_pts = []\n",
    "q_seg = []\n",
    "\n",
    "for i in origin_idx:\n",
    "    q_pts.append(all_verts[i][:2])\n",
    "q_pts = np.array(q_pts)\n",
    "\n",
    "for bd in border_edge_id:\n",
    "    q_seg.append([query_idx[bd[0]], query_idx[bd[1]]])\n",
    "q_seg = np.array(q_seg)"
   ]
  },
  {
   "cell_type": "code",
   "execution_count": null,
   "id": "40f0b879",
   "metadata": {},
   "outputs": [],
   "source": [
    "q_pts"
   ]
  },
  {
   "cell_type": "code",
   "execution_count": 34,
   "id": "acb54c5c",
   "metadata": {},
   "outputs": [],
   "source": [
    "o3d.visualization.draw_geometries([mesh, mesh_lines])"
   ]
  },
  {
   "cell_type": "code",
   "execution_count": null,
   "id": "6eef3222",
   "metadata": {},
   "outputs": [],
   "source": [
    "\n",
    "\n",
    "A = dict(vertices=q_pts, segments=q_seg, holes=[mesh.get_center()[:2]]) ## [0,0] should work\n",
    "B = tr.triangulate(A, 'piC')\n",
    "tr.compare(plt, A, B)\n",
    "\n",
    "\n",
    "tmp_id = np.vstack((B['triangles'][:, [0, 1]], B['triangles'][:, [1, 2]], B['triangles'][:, [2, 0]]))\n",
    "# print(\"origin idx:\", origin_idx)\n",
    "# print(\"A: \\n\", A)\n",
    "# print(\"B: \\n\", B)\n",
    "if A['vertices'].shape[0] != B['vertices'].shape[0]:\n",
    "    print(\"Vertices number mismatch\")\n",
    "#     continue"
   ]
  },
  {
   "cell_type": "code",
   "execution_count": null,
   "id": "2e1135ec",
   "metadata": {},
   "outputs": [],
   "source": [
    "\n",
    "delaunay_edges = np.array(origin_idx)[tmp_id]\n",
    "\n",
    "delaunay_lines = o3d.geometry.LineSet(\n",
    "    points=o3d.utility.Vector3dVector( all_verts ),\n",
    "    lines=o3d.utility.Vector2iVector( delaunay_edges ),\n",
    ")\n",
    "\n",
    "\n",
    "# new_road = o3d.geometry.TriangleMesh()\n",
    "new_road.vertices = o3d.utility.Vector3dVector(all_verts)\n",
    "\n",
    "new_tris = np.vstack([new_road.triangles, np.array(mesh.triangles) + offset, np.array(origin_idx)[np.array(B['triangles'])]])\n",
    "new_road.triangles = o3d.utility.Vector3iVector(new_tris)\n",
    "\n",
    "triangles = np.asarray(new_road.triangles)\n",
    "new_edges = np.vstack((triangles[:, [0, 1]], triangles[:, [1, 2]], triangles[:, [2, 0]]))\n",
    "#     new_lines = o3d.geometry.LineSet(\n",
    "#         points=o3d.utility.Vector3dVector(new_road.vertices),\n",
    "#         lines=o3d.utility.Vector2iVector(new_edges),\n",
    "#     )\n",
    "# o3d.visualization.draw_geometries([road, new_lines])\n",
    "road.clear()\n",
    "road = o3d.geometry.TriangleMesh(new_road)\n",
    "mesh.clear()\n",
    "\n",
    "generated += 1\n",
    "print(\"Successfully generated\", pit_name, \"at\", x, y, yaw)"
   ]
  },
  {
   "cell_type": "code",
   "execution_count": null,
   "id": "5f8c2d13",
   "metadata": {},
   "outputs": [],
   "source": []
  },
  {
   "cell_type": "code",
   "execution_count": null,
   "id": "12beebde",
   "metadata": {},
   "outputs": [],
   "source": []
  },
  {
   "cell_type": "code",
   "execution_count": null,
   "id": "e1f8efd2",
   "metadata": {},
   "outputs": [],
   "source": []
  },
  {
   "cell_type": "code",
   "execution_count": null,
   "id": "79d77d57",
   "metadata": {},
   "outputs": [],
   "source": [
    "o3d.visualization.draw_geometries([road, road_lines, coord])"
   ]
  },
  {
   "cell_type": "code",
   "execution_count": null,
   "id": "6b141866",
   "metadata": {},
   "outputs": [],
   "source": []
  },
  {
   "cell_type": "code",
   "execution_count": null,
   "id": "ba045928",
   "metadata": {},
   "outputs": [],
   "source": []
  },
  {
   "cell_type": "code",
   "execution_count": null,
   "id": "51e38244",
   "metadata": {},
   "outputs": [],
   "source": []
  },
  {
   "cell_type": "code",
   "execution_count": null,
   "id": "3789480d",
   "metadata": {},
   "outputs": [],
   "source": []
  },
  {
   "cell_type": "code",
   "execution_count": null,
   "id": "ecb39102",
   "metadata": {},
   "outputs": [],
   "source": [
    "def tri_area(v1, v2, v3):\n",
    "    v1 = np.array(v1)\n",
    "    v2 = np.array(v2)\n",
    "    v3 = np.array(v3)\n",
    "    a = np.linalg.norm(v2 - v1)\n",
    "    b = np.linalg.norm(v3 - v2)\n",
    "    c = np.linalg.norm(v1 - v3)\n",
    "    s = (a + b + c) / 2\n",
    "    return np.sqrt(s * (s - a) * (s - b) * (s - c))"
   ]
  },
  {
   "cell_type": "code",
   "execution_count": null,
   "id": "4e3d9c6d",
   "metadata": {},
   "outputs": [],
   "source": [
    "global_tris = np.array(road.vertices)[np.array(road.triangles)]\n",
    "for tri in global_tris:\n",
    "    area = tri_area(tri[0], tri[1], tri[2])\n",
    "    print(area)"
   ]
  },
  {
   "cell_type": "code",
   "execution_count": null,
   "id": "5dc26c5f",
   "metadata": {},
   "outputs": [],
   "source": [
    "360/2500"
   ]
  },
  {
   "cell_type": "code",
   "execution_count": null,
   "id": "cdaacc20",
   "metadata": {},
   "outputs": [],
   "source": [
    "np.concatenate([old_verts, new_verts])"
   ]
  },
  {
   "cell_type": "code",
   "execution_count": null,
   "id": "1e7490d4",
   "metadata": {},
   "outputs": [],
   "source": [
    "# small_pieces"
   ]
  },
  {
   "cell_type": "code",
   "execution_count": null,
   "id": "e25e09a6",
   "metadata": {
    "scrolled": true
   },
   "outputs": [],
   "source": [
    "verts = np.array(road.vertices)\n",
    "tris = np.array(road.triangles)"
   ]
  },
  {
   "cell_type": "code",
   "execution_count": null,
   "id": "14dac6d3",
   "metadata": {},
   "outputs": [],
   "source": []
  },
  {
   "cell_type": "code",
   "execution_count": null,
   "id": "3a72896c",
   "metadata": {},
   "outputs": [],
   "source": [
    "np.concatenate([old_verts, new_verts]).shape"
   ]
  },
  {
   "cell_type": "code",
   "execution_count": null,
   "id": "4a9a396f",
   "metadata": {},
   "outputs": [],
   "source": [
    "threshold_split = 0.5\n",
    "verts = np.array(road.vertices)\n",
    "tris = np.array(road.triangles)\n",
    "print(\"verts \", verts.shape[0], \" tris \", tris.shape[0])\n",
    "\n",
    "tri_coord = verts[tris]\n",
    "small_pieces = []\n",
    "large_pieces = []\n",
    "for i in tqdm(range(tri_coord.shape[0])):\n",
    "    tri = tri_coord[i]\n",
    "    area = tri_area(tri[0], tri[1], tri[2])\n",
    "    if area < threshold_split:\n",
    "        small_pieces.append(tris[i])\n",
    "    else:\n",
    "        large_pieces.append(tris[i])\n",
    "\n",
    "# pbar = tqdm(total=len(large_pieces))\n",
    "for _i in tqdm(range(len(large_pieces))):\n",
    "#     pbar.update()\n",
    "    new_road = o3d.geometry.TriangleMesh()\n",
    "    \n",
    "    tri_to_split_id = large_pieces[_i]\n",
    "    q_pts = verts[tri_to_split_id][:,:2]\n",
    "    q_seg = np.array([[0,1],[1,2],[2,0]])\n",
    "\n",
    "    A = dict(vertices=q_pts, segments=q_seg)\n",
    "    #     s = 'qpa'+str(threshold_split)\n",
    "    B = tr.triangulate(A, 'qpa0.005')\n",
    "    \n",
    "    offset = np.array(road.vertices).shape[0]\n",
    "\n",
    "    old_verts = np.array(road.vertices)\n",
    "    new_verts = np.concatenate([np.array(B['vertices']), np.zeros([B['vertices'].shape[0], 1])], axis=1)\n",
    "    new_road.vertices = o3d.utility.Vector3dVector(np.concatenate([old_verts, new_verts]))\n",
    "\n",
    "    old_faces = np.array(road.triangles)\n",
    "    new_faces = offset + B['triangles']\n",
    "    faces = np.concatenate([old_faces, new_faces])\n",
    "    new_road.triangles = o3d.utility.Vector3iVector(faces)\n",
    "    \n",
    "    road = o3d.geometry.TriangleMesh()\n",
    "    road.vertices = new_road.vertices\n",
    "    road.triangles = new_road.triangles\n",
    "    \n",
    "    new_road.clear()"
   ]
  },
  {
   "cell_type": "code",
   "execution_count": null,
   "id": "fb9c23f3",
   "metadata": {},
   "outputs": [],
   "source": [
    "print(\"verts \", np.array(road.vertices).shape[0], \" tris \", np.array(road.triangles).shape[0])\n",
    "# road.remove_duplicated_vertices()\n",
    "# print(\"verts \", np.array(road.vertices).shape[0], \" tris \", np.array(road.triangles).shape[0])\n"
   ]
  },
  {
   "cell_type": "code",
   "execution_count": null,
   "id": "000dd23e",
   "metadata": {},
   "outputs": [],
   "source": [
    "road_lines = o3d.geometry.LineSet(\n",
    "    points=o3d.utility.Vector3dVector(road.vertices),\n",
    "    lines=o3d.utility.Vector2iVector(road_edges),\n",
    ")"
   ]
  },
  {
   "cell_type": "code",
   "execution_count": null,
   "id": "28fd6a1d",
   "metadata": {},
   "outputs": [],
   "source": [
    "o3d.visualization.draw_geometries([road, road_lines, coord])"
   ]
  },
  {
   "cell_type": "code",
   "execution_count": null,
   "id": "c20b6001",
   "metadata": {},
   "outputs": [],
   "source": [
    "# A = np.array([0,0])\n",
    "# B = np.array([5,3])\n",
    "# C = np.array([3,2])\n",
    "\n",
    "# n = (B-A) / np.linalg.norm(B-A)\n",
    "# A + np.dot((C-A), n) * n"
   ]
  },
  {
   "cell_type": "code",
   "execution_count": null,
   "id": "127d532c",
   "metadata": {},
   "outputs": [],
   "source": [
    "import noise\n",
    "import numpy as np\n",
    "from PIL import Image\n",
    "\n",
    "# Set the size of the heightmap\n",
    "width = 1024\n",
    "height = 1024\n",
    "\n",
    "# Set the scale of the Perlin noise\n",
    "scale = 50.0\n",
    "\n",
    "# Generate a 2D grid of Perlin noise values\n",
    "perlin_grid = np.zeros((width, height))\n",
    "for x in range(width):\n",
    "    for y in range(height):\n",
    "        perlin_grid[x][y] = noise.pnoise2(x /2, y/2 )\n",
    "\n",
    "# Normalize the grid to the range [0, 1]\n",
    "# perlin_grid = (perlin_grid - perlin_grid.min()) / (perlin_grid.max() - perlin_grid.min())\n",
    "\n",
    "# Save the heightmap as an image\n",
    "img = Image.fromarray(np.uint8(perlin_grid * 255))\n",
    "img.show()\n",
    "# plt.imshow(perlin_grid, cmap='hot', interpolation='nearest')\n",
    "# plt.show()"
   ]
  },
  {
   "cell_type": "code",
   "execution_count": null,
   "id": "e313d05d",
   "metadata": {},
   "outputs": [],
   "source": [
    "plt.imshow(perlin_grid, cmap='hot', interpolation='nearest')\n",
    "plt.show()"
   ]
  },
  {
   "cell_type": "code",
   "execution_count": null,
   "id": "a9a34067",
   "metadata": {},
   "outputs": [],
   "source": [
    "noise.snoise2(10, -5)"
   ]
  },
  {
   "cell_type": "code",
   "execution_count": null,
   "id": "f3897623",
   "metadata": {},
   "outputs": [],
   "source": [
    "np.arcsin(1.15/4.5) * 180 / np.pi"
   ]
  },
  {
   "cell_type": "code",
   "execution_count": null,
   "id": "924f129a",
   "metadata": {},
   "outputs": [],
   "source": [
    "import pymesh\n",
    "import numpy as np\n",
    "import open3d as o3d\n",
    "\n",
    "vertices = np.array([\n",
    "     [0.0, 0.0, 0],\n",
    "     [10.0, 0.0, 0],\n",
    "     [10.0, 10.0, 0],\n",
    "     [0.0, 10.0, 0],\n",
    "     [2,2,0],\n",
    "     [8,2,0],\n",
    "     [8,8,0],\n",
    "     [2,8,0],\n",
    "     [0,20, 0],\n",
    "     [10,20, 0],\n",
    "     [4,14, 0],\n",
    "     [5,16, 0],\n",
    "     [6,14, 0]\n",
    "     ]);\n",
    "tri = pymesh.triangle();\n",
    "tri.points = vertices;\n",
    "\n",
    "tri.segments = np.array([\n",
    "    [0,1],\n",
    "    [1,2],\n",
    "    [2,3],\n",
    "    [3,0],\n",
    "    [4,5],\n",
    "    [5,6],\n",
    "    [6,7],\n",
    "    [7,4],\n",
    "    [0,4],\n",
    "    [1,5],\n",
    "    [2,6],\n",
    "    [3,7],\n",
    "    [8,3],\n",
    "    [9,1],\n",
    "    [8,9],\n",
    "    [10,11],\n",
    "    [11,12],\n",
    "    [12,10],\n",
    "    [0,2]\n",
    "])\n",
    "tri.holes = np.array([[5,5,0],\n",
    "                      [5,15,0]\n",
    "                     ])\n",
    "# tri.auto_hole_detection = True\n",
    "tri.max_area = 0.5;\n",
    "tri.split_boundary = False;\n",
    "tri.verbosity = 0;\n",
    "tri.run(); # Execute triangle.\n",
    "t_mesh = tri.mesh; # output triangulation."
   ]
  },
  {
   "cell_type": "code",
   "execution_count": null,
   "id": "62312f36",
   "metadata": {},
   "outputs": [],
   "source": [
    "mesh = o3d.geometry.TriangleMesh()\n",
    "mesh.vertices = o3d.utility.Vector3dVector(np.array(t_mesh.vertices))\n",
    "mesh.triangles = o3d.utility.Vector3iVector(np.array(t_mesh.faces))\n",
    "\n",
    "triangles = np.asarray(mesh.triangles)\n",
    "mesh_edges = np.vstack((triangles[:, [0, 1]], triangles[:, [1, 2]], triangles[:, [2, 0]]))\n",
    "mesh_lines = o3d.geometry.LineSet(\n",
    "    points=o3d.utility.Vector3dVector(mesh.vertices),\n",
    "    lines=o3d.utility.Vector2iVector(mesh_edges),\n",
    ")"
   ]
  },
  {
   "cell_type": "code",
   "execution_count": null,
   "id": "a574a00a",
   "metadata": {},
   "outputs": [],
   "source": [
    "o3d.visualization.draw_geometries([mesh, mesh_lines])\n"
   ]
  },
  {
   "cell_type": "code",
   "execution_count": null,
   "id": "bb6ade3e",
   "metadata": {
    "scrolled": true
   },
   "outputs": [],
   "source": [
    "tri.algorithm"
   ]
  },
  {
   "cell_type": "code",
   "execution_count": null,
   "id": "2e06467b",
   "metadata": {
    "scrolled": false
   },
   "outputs": [],
   "source": []
  }
 ],
 "metadata": {
  "kernelspec": {
   "display_name": "Python 3 (ipykernel)",
   "language": "python",
   "name": "python3"
  },
  "language_info": {
   "codemirror_mode": {
    "name": "ipython",
    "version": 3
   },
   "file_extension": ".py",
   "mimetype": "text/x-python",
   "name": "python",
   "nbconvert_exporter": "python",
   "pygments_lexer": "ipython3",
   "version": "3.8.0"
  }
 },
 "nbformat": 4,
 "nbformat_minor": 5
}
