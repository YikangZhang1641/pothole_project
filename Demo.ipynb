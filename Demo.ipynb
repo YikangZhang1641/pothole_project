{
 "cells": [
  {
   "cell_type": "code",
   "execution_count": 1,
   "id": "5270874d",
   "metadata": {},
   "outputs": [
    {
     "name": "stdout",
     "output_type": "stream",
     "text": [
      "Jupyter environment detected. Enabling Open3D WebVisualizer.\n",
      "[Open3D INFO] WebRTC GUI backend enabled.\n",
      "[Open3D INFO] WebRTCWindowSystem: HTTP handshake server disabled.\n"
     ]
    }
   ],
   "source": [
    "import open3d as o3d\n",
    "import pymesh\n",
    "import numpy as np\n",
    "import scipy.io as scio\n",
    "import cv2\n",
    "import math\n",
    "from collections import deque\n",
    "import triangle as tr\n",
    "import matplotlib.pyplot as plt\n",
    "\n",
    "import os, sys\n",
    "import multiprocessing\n",
    "import shutil\n",
    "import trimesh\n",
    "\n",
    "\n",
    "GAP = 30\n",
    "GRID_PIXEL = 10\n",
    "stereo_dataset_path = \"/media/mias/UGREEN0/stereo_pothole_datasets/dataset2\"\n",
    "\n",
    "CORNER_LU = 0\n",
    "CORNER_LD = 1\n",
    "CORNER_RD = 2\n",
    "CORNER_RU = 3\n",
    "\n",
    "def bfs(img, visited, pos, new_label, label_cnt):\n",
    "    x, y = pos\n",
    "    if visited[x][y]:\n",
    "        return False\n",
    "    \n",
    "    visited[x][y] = True\n",
    "    if img[x][y] == 0:\n",
    "        return False\n",
    "    \n",
    "    dq = deque([])\n",
    "    dq.appendleft((x,y))\n",
    "    \n",
    "    L,R,U,D = visited.shape[0], 0, visited.shape[1], 0\n",
    "    while len(dq) > 0:\n",
    "        x, y = dq.pop()\n",
    "        new_label[x][y] = label_cnt * 50\n",
    "        L = min(L, x)\n",
    "        R = max(R, x)\n",
    "        U = min(U, y)\n",
    "        D = max(D, y)\n",
    "        \n",
    "        for dx, dy in [(0,1), (0,-1), (1,0), (-1,0)]:\n",
    "            nx, ny = x+dx, y+dy\n",
    "            if nx < 0 or nx >= visited.shape[0] or ny < 0 or ny >= visited.shape[1]:\n",
    "                continue\n",
    "            if visited[nx][ny]:\n",
    "                continue\n",
    "            visited[nx][ny] = True\n",
    "            \n",
    "            if img[nx][ny] != 0:\n",
    "                dq.appendleft((nx, ny))\n",
    "            \n",
    "    return (L,R,U,D)\n",
    "\n",
    "def pushback_point(vertices, indices, base, cnt, data_points, i, j, border=False):\n",
    "    p = data_points[i*GRID_PIXEL][j*GRID_PIXEL]\n",
    "    \n",
    "    ###### have to filter unknown bad points###########\n",
    "    if np.any(np.isinf(p)):\n",
    "        if i > 1:\n",
    "            p = data_points[(i-1)*GRID_PIXEL][j*GRID_PIXEL] * 2 - data_points[(i-2)*GRID_PIXEL][j*GRID_PIXEL]\n",
    "    if np.any(np.isinf(p)):\n",
    "        if j > 1:\n",
    "            p = data_points[i*GRID_PIXEL][(j-1)*GRID_PIXEL] * 2 - data_points[i*GRID_PIXEL][(j-2)*GRID_PIXEL]\n",
    "    if np.any(np.isinf(p)):\n",
    "        if i > 1 and j > 1:\n",
    "            p = data_points[(i-1)*GRID_PIXEL][(j+1)*GRID_PIXEL] * 2 - data_points[(i-2)*GRID_PIXEL][(j+2)*GRID_PIXEL]\n",
    "    if np.any(np.isinf(p)):\n",
    "        if i > 1 and j < data_points.shape[1] // GRID_PIXEL - 1:\n",
    "            p = data_points[(i-1)*GRID_PIXEL][(j-1)*GRID_PIXEL] * 2 - data_points[(i-2)*GRID_PIXEL][(j-2)*GRID_PIXEL]\n",
    "#    if np.any(np.isinf(p)):\n",
    "##        if i > 3 and j < data_points.shape[1] // GRID_PIXEL - 3:\n",
    "#        p = data_points[(i-2)*GRID_PIXEL][(j-2)*GRID_PIXEL] * 2 - data_points[(i-4)*GRID_PIXEL][(j-4)*GRID_PIXEL]\n",
    "    if np.any(np.isinf(p)):\n",
    "#        print(\"bad point inf detected at: \", i*GRID_PIXEL, j*GRID_PIXEL)\n",
    "        return\n",
    "    ###################################################       \n",
    "    vertices.append([p[0]-base[0], p[1]-base[1], -p[2]+base[2]])\n",
    "\n",
    "    if i not in indices:\n",
    "        indices[i] = {}\n",
    "    indices[i][j] = cnt\n"
   ]
  },
  {
   "cell_type": "code",
   "execution_count": 2,
   "id": "62ad6813",
   "metadata": {},
   "outputs": [],
   "source": [
    "file = \"15.mat\"\n",
    "# for file in os.listdir(os.path.join(stereo_dataset_path, \"ptcloud\")):\n",
    "\n",
    "filepath = os.path.join(stereo_dataset_path, \"ptcloud\", file) \n",
    "labelpath = os.path.join(stereo_dataset_path, \"label\", file.split('.')[0]+\".png\")\n",
    "\n",
    "data_points = scio.loadmat(filepath)['xyzPoints']\n",
    "\n",
    "img = cv2.imread(labelpath)\n",
    "label = img[:,:,2]\n",
    "\n",
    "visited = np.zeros(label.shape)\n",
    "new_label = np.zeros(label.shape)\n",
    "label_cnt = 0\n",
    "for pi in range(label.shape[0]):\n",
    "    for pj in range(label.shape[1]):\n",
    "        result = bfs(label, visited, (pi,pj), new_label, label_cnt)\n",
    "        if not result:\n",
    "            continue\n",
    "    \n",
    "        L = max(result[0] - GAP, 0)//GRID_PIXEL\n",
    "        R = min(result[1] + GAP, label.shape[0]-1)//GRID_PIXEL\n",
    "        U = max(result[2] - GAP, 0)//GRID_PIXEL\n",
    "        D = min(result[3] + GAP, label.shape[1]-1)//GRID_PIXEL        \n",
    "                       \n",
    "        name = stereo_dataset_path[-1] + '_' + file.split('.')[0]+\"_\"+str(label_cnt)\n",
    "    \n",
    "        break"
   ]
  },
  {
   "cell_type": "code",
   "execution_count": 3,
   "id": "f9403f8b",
   "metadata": {},
   "outputs": [
    {
     "name": "stdout",
     "output_type": "stream",
     "text": [
      "processing mesh 2_15_0\n"
     ]
    },
    {
     "data": {
      "text/plain": [
       "TriangleMesh with 1500 points and 2846 triangles."
      ]
     },
     "execution_count": 3,
     "metadata": {},
     "output_type": "execute_result"
    }
   ],
   "source": [
    "name = stereo_dataset_path[-1] + '_' + file.split('.')[0]+\"_\"+str(label_cnt)\n",
    "print(\"processing mesh\", name)\n",
    "base = data_points[(L+1)*GRID_PIXEL][(U+1)*GRID_PIXEL]\n",
    "\n",
    "### vertices\n",
    "vertices = []\n",
    "indices = {}\n",
    "\n",
    "#### construct corners.\n",
    "pushback_point(vertices, indices, base, 0, data_points, L, U)\n",
    "pushback_point(vertices, indices, base, 1, data_points, L, D)\n",
    "pushback_point(vertices, indices, base, 2, data_points, R, D)\n",
    "pushback_point(vertices, indices, base, 3, data_points, R, U)\n",
    "\n",
    "#### construct vertices\n",
    "cnt = 4\n",
    "for i in range(L+1, R):\n",
    "    for j in range(U+1, D):\n",
    "        pushback_point(vertices, indices, base, cnt, data_points, i, j)\n",
    "        cnt += 1\n",
    "\n",
    "\n",
    "faces = []\n",
    "for i in range(L+1, R-1):\n",
    "    for j in range(U+1, D-1):\n",
    "        flag = False\n",
    "        if j not in indices[i]:\n",
    "            continue\n",
    "\n",
    "        ax, ay = i+1, j+1\n",
    "        bx, by = i+1, j\n",
    "        cx, cy = i, j+1\n",
    "\n",
    "        if ay in indices[ax] and by in indices[bx]:\n",
    "            faces.append( [ indices[i][j], indices[ax][ay], indices[bx][by] ] )\n",
    "        if ay in indices[ax] and cy in indices[cx]:\n",
    "            faces.append( [ indices[i][j], indices[cx][cy], indices[ax][ay] ] )\n",
    "\n",
    "faces.append([indices[L][U], indices[L][D], indices[L+1][D-1]])\n",
    "faces.append([indices[L][U], indices[L+1][D-1], indices[L+1][U+1]])\n",
    "faces.append([indices[L][U], indices[L+1][U+1], indices[R-1][U+1]])\n",
    "faces.append([indices[L][U], indices[R-1][U+1], indices[R][U]])\n",
    "\n",
    "faces.append([indices[R][D], indices[R][U], indices[R-1][U+1]])\n",
    "faces.append([indices[R][D], indices[R-1][U+1], indices[R-1][D-1]])\n",
    "faces.append([indices[R][D], indices[R-1][D-1], indices[L+1][D-1]])\n",
    "faces.append([indices[R][D], indices[L+1][D-1], indices[L][D]])\n",
    "\n",
    "vertices = np.array(vertices) / 100\n",
    "faces = np.array(faces)\n",
    "\n",
    "mesh = o3d.geometry.TriangleMesh()\n",
    "mesh.vertices = o3d.utility.Vector3dVector(vertices)\n",
    "mesh.triangles = o3d.utility.Vector3iVector(faces)\n",
    "\n",
    "\n",
    "coord = o3d.geometry.TriangleMesh.create_coordinate_frame(size=60, origin=[0,0,0])\n",
    "mesh_edges = np.vstack((faces[:, [0, 1]], faces[:, [1, 2]], faces[:, [2, 0]]))\n",
    "\n",
    "corner0 = mesh.vertices[indices[R][U]] - mesh.vertices[indices[L][U]]\n",
    "roll = np.arctan2(corner0[2], corner0[1])\n",
    "\n",
    "corner1 = mesh.vertices[indices[L][D]] - mesh.vertices[indices[L][U]]\n",
    "pitch = np.arctan2(corner1[2], corner1[0])\n",
    "\n",
    "Rot = mesh.get_rotation_matrix_from_xyz((-roll, pitch, 0))\n",
    "mesh.rotate(Rot, center=(0, 0, 0))\n"
   ]
  },
  {
   "cell_type": "code",
   "execution_count": 4,
   "id": "38be8957",
   "metadata": {},
   "outputs": [],
   "source": [
    "# o3d.visualization.draw_geometries([mesh])\n"
   ]
  },
  {
   "cell_type": "code",
   "execution_count": 5,
   "id": "0b78ce63",
   "metadata": {},
   "outputs": [],
   "source": [
    "### z\n",
    "for i in range(L+1, R):\n",
    "    a = mesh.vertices[indices[ i ][ U+1 ]][2]\n",
    "    b = mesh.vertices[indices[ i ][ D-1 ]][2]\n",
    "    for j in range(U+1, D):\n",
    "        mesh.vertices[indices[ i ][ j ]][2] -= (a + (b-a) / (D-U-1) * (j-U-1))\n",
    "        \n",
    "for j in range(U+1, D):\n",
    "    c = mesh.vertices[indices[ L+1 ][ j ]][2]\n",
    "    d = mesh.vertices[indices[ R-1 ][ j ]][2]    \n",
    "    for i in range(L+1, R):\n",
    "        mesh.vertices[indices[ i ][ j ]][2] -= (c + (d-c) / (R-L-1) * (i-L-1))\n",
    "\n",
    "mesh.vertices[0][2] = 0\n",
    "mesh.vertices[1][2] = 0\n",
    "mesh.vertices[2][2] = 0\n",
    "mesh.vertices[3][2] = 0\n",
    "\n",
    "        \n",
    "# ### xy\n",
    "for i in range(L+1, R): #U\n",
    "    start = mesh.vertices[indices[ L+1 ][ U+1 ]][:2]\n",
    "    end   = mesh.vertices[indices[ R-1 ][ U+1 ]][:2]\n",
    "    mesh.vertices[indices[ i ][ U+1 ]][:2] = start + (end - start) / (R-L-2) * (i-L-1)\n",
    "    \n",
    "for i in range(L+1, R): #D\n",
    "    start = mesh.vertices[indices[ L+1 ][ D-1 ]][:2]\n",
    "    end   = mesh.vertices[indices[ R-1 ][ D-1 ]][:2]\n",
    "    mesh.vertices[indices[ i ][ D-1 ]][:2] = start + (end - start) / (R-L-2) * (i-L-1)\n",
    "        \n",
    "for j in range(U+1, D): #L\n",
    "    start = mesh.vertices[indices[ L+1 ][ U+1 ]][:2]\n",
    "    end   = mesh.vertices[indices[ L+1 ][ D-1 ]][:2]\n",
    "    mesh.vertices[indices[ L+1 ][ j ]][:2] = start + (end - start) / (D-U-2) * (j-U-1)\n",
    "\n",
    "for j in range(U+1, D): #R\n",
    "    start = mesh.vertices[indices[ R-1 ][ U+1 ]][:2]\n",
    "    end   = mesh.vertices[indices[ R-1 ][ D-1 ]][:2]\n",
    "    mesh.vertices[indices[ R-1 ][ j ]][:2] = start + (end - start) / (D-U-2) * (j-U-1)\n",
    "    "
   ]
  },
  {
   "cell_type": "code",
   "execution_count": 6,
   "id": "de88ea4c",
   "metadata": {},
   "outputs": [],
   "source": [
    "# mesh_r = copy.deepcopy(mesh)\n",
    "\n",
    "coord = o3d.geometry.TriangleMesh.create_coordinate_frame(size=0.1, origin=[0,0,0])\n",
    "\n",
    "triangles = np.asarray(mesh.triangles)\n",
    "mesh_edges = np.vstack((triangles[:, [0, 1]], triangles[:, [1, 2]], triangles[:, [2, 0]]))\n",
    "\n",
    "mesh_lines = o3d.geometry.LineSet(\n",
    "    points=o3d.utility.Vector3dVector(mesh.vertices),\n",
    "    lines=o3d.utility.Vector2iVector(mesh_edges),\n",
    ")\n",
    "o3d.visualization.draw_geometries([mesh, coord, mesh_lines])\n",
    "# o3d.io.write_triangle_mesh(file.split(\".\")[0] + \".ply\", mesh)\n"
   ]
  },
  {
   "cell_type": "code",
   "execution_count": 7,
   "id": "a3a8a577",
   "metadata": {},
   "outputs": [],
   "source": [
    "################################### Pit Mesh Above ############################################\n"
   ]
  },
  {
   "cell_type": "code",
   "execution_count": 8,
   "id": "945017ed",
   "metadata": {},
   "outputs": [],
   "source": [
    "################################### Road Mesh Below ############################################\n",
    "mesh.translate((1.8,10.984,0))\n",
    "Rot = mesh.get_rotation_matrix_from_xyz((0, 0, 2.725))\n",
    "mesh.rotate(Rot, center=mesh.get_center())\n",
    "\n",
    "triangles = np.asarray(mesh.triangles)\n",
    "mesh_edges = np.vstack((triangles[:, [0, 1]], triangles[:, [1, 2]], triangles[:, [2, 0]]))\n",
    "\n",
    "mesh_lines = o3d.geometry.LineSet(\n",
    "    points=o3d.utility.Vector3dVector(mesh.vertices),\n",
    "    lines=o3d.utility.Vector2iVector(mesh_edges),\n",
    ")"
   ]
  },
  {
   "cell_type": "code",
   "execution_count": 9,
   "id": "465778e2",
   "metadata": {},
   "outputs": [],
   "source": [
    "coord = o3d.geometry.TriangleMesh.create_coordinate_frame(size=10, origin=[0,0,0])\n",
    "\n",
    "road = o3d.io.read_triangle_mesh(\"/home/mias/Datasets/CarlaRoads/Town01_Road_Road.obj\")\n",
    "road.vertices = o3d.utility.Vector3dVector(np.array(road.vertices)[:, [2,0,1]] / 100)\n",
    "\n",
    "triangles = np.asarray(road.triangles)\n",
    "road_edges = np.vstack((triangles[:, [0, 1]], triangles[:, [1, 2]], triangles[:, [2, 0]]))\n",
    "\n",
    "road_lines = o3d.geometry.LineSet(\n",
    "    points=o3d.utility.Vector3dVector(road.vertices),\n",
    "    lines=o3d.utility.Vector2iVector(road_edges),\n",
    ")\n",
    "o3d.visualization.draw_geometries([mesh, mesh_lines, road, road_lines, coord])"
   ]
  },
  {
   "cell_type": "code",
   "execution_count": 10,
   "id": "ef6a6508",
   "metadata": {},
   "outputs": [
    {
     "data": {
      "text/plain": [
       "array([[ 3.08550157e+00,  1.15846060e+01,  0.00000000e+00],\n",
       "       [ 2.01482383e+00,  1.20696775e+01,  0.00000000e+00],\n",
       "       [ 1.70659081e+00,  1.12499641e+01,  0.00000000e+00],\n",
       "       ...,\n",
       "       [ 1.77873982e+00,  1.12402330e+01, -6.03111754e-05],\n",
       "       [ 1.75679345e+00,  1.12512506e+01, -4.48065899e-05],\n",
       "       [ 1.73484707e+00,  1.12622682e+01, -4.91897904e-05]])"
      ]
     },
     "execution_count": 10,
     "metadata": {},
     "output_type": "execute_result"
    }
   ],
   "source": [
    "# np.array(road.vertices)[:, [0,2,1]]\n",
    "np.array(mesh.vertices)"
   ]
  },
  {
   "cell_type": "code",
   "execution_count": 11,
   "id": "fde1062b",
   "metadata": {},
   "outputs": [
    {
     "data": {
      "text/plain": [
       "array([[ 2.74987744e+01,  1.20899998e-03, -0.00000000e+00],\n",
       "       [ 2.87313330e+01, -3.94950806e+00,  0.00000000e+00],\n",
       "       [ 2.87313232e+01,  1.20899998e-03, -0.00000000e+00],\n",
       "       ...,\n",
       "       [ 5.74924707e+01,  1.44199717e+02, -0.00000000e+00],\n",
       "       [ 5.35444434e+01,  1.46586914e+02, -0.00000000e+00],\n",
       "       [ 5.74951025e+01,  1.46582510e+02, -0.00000000e+00]])"
      ]
     },
     "execution_count": 11,
     "metadata": {},
     "output_type": "execute_result"
    }
   ],
   "source": [
    "np.array(road.vertices)"
   ]
  },
  {
   "cell_type": "code",
   "execution_count": 12,
   "id": "415877e6",
   "metadata": {},
   "outputs": [],
   "source": [
    "\n",
    "\n",
    "scene = o3d.t.geometry.RaycastingScene()\n",
    "road_tri = o3d.t.geometry.TriangleMesh.from_legacy(road)\n",
    "road_id = scene.add_triangles(road_tri)\n",
    "\n",
    "quires = []\n",
    "for v in np.array(mesh.vertices):\n",
    "    quires.append([v[0], v[1], v[2] + 10, 0, 0, -1])\n",
    "rays = o3d.core.Tensor(quires, dtype=o3d.core.Dtype.Float32)\n",
    "\n",
    "ans = scene.cast_rays(rays)\n",
    "\n",
    "collide = list(set(ans['primitive_ids'].numpy()))\n",
    "if scene.INVALID_ID in collide:\n",
    "    print(\"outside of boundary!\")\n",
    "\n",
    "border = []\n",
    "for c in collide:\n",
    "        \n",
    "    for i,j in [[0,1], [1,2], [2,0]]:\n",
    "        s = min(road.triangles[c][i], road.triangles[c][j])\n",
    "        e = max(road.triangles[c][i], road.triangles[c][j])\n",
    "        if (s, e) in border:\n",
    "            border.remove((s,e))\n",
    "        else:\n",
    "            border.append((s,e))\n",
    "\n",
    "border_lines = o3d.geometry.LineSet(\n",
    "    points=o3d.utility.Vector3dVector(road.vertices),\n",
    "    lines=o3d.utility.Vector2iVector(np.array(border)),\n",
    ")\n",
    "road.triangles = o3d.utility.Vector3iVector(np.delete(np.asarray(road.triangles), collide, axis=0))\n"
   ]
  },
  {
   "cell_type": "code",
   "execution_count": 13,
   "id": "6ef77c8e",
   "metadata": {},
   "outputs": [],
   "source": [
    "o3d.visualization.draw_geometries([mesh, coord, mesh_lines, road, border_lines])\n"
   ]
  },
  {
   "cell_type": "code",
   "execution_count": 14,
   "id": "ae48db1e",
   "metadata": {},
   "outputs": [],
   "source": [
    "# q_pts"
   ]
  },
  {
   "cell_type": "code",
   "execution_count": 15,
   "id": "c7696494",
   "metadata": {},
   "outputs": [],
   "source": [
    "# B['vertices']"
   ]
  },
  {
   "cell_type": "code",
   "execution_count": 16,
   "id": "908273e4",
   "metadata": {},
   "outputs": [],
   "source": [
    "all_verts = np.vstack([road.vertices, mesh.vertices])\n",
    "\n",
    "offset = np.array(road.vertices).shape[0]\n",
    "tmp_id = np.array([ [indices[L][U], indices[L][D]], \n",
    "                    [indices[L][D], indices[R][D]],\n",
    "                    [indices[R][D], indices[R][U]], \n",
    "                    [indices[R][U], indices[L][U]]\n",
    "                  ])\n",
    "border_edge_id = np.vstack([border, tmp_id+offset])\n",
    "\n"
   ]
  },
  {
   "cell_type": "code",
   "execution_count": 17,
   "id": "022ef37c",
   "metadata": {},
   "outputs": [
    {
     "data": {
      "image/png": "[encoded data removed]",
      "text/plain": [
       "<Figure size 600x300 with 2 Axes>"
      ]
     },
     "metadata": {},
     "output_type": "display_data"
    },
    {
     "data": {
      "text/plain": [
       "<Figure size 2000x2000 with 0 Axes>"
      ]
     },
     "metadata": {},
     "output_type": "display_data"
    }
   ],
   "source": [
    "origin_idx = list(set(border_edge_id.flatten().tolist()))\n",
    "query_idx = {origin_idx[i]:i for i in range(len(origin_idx))}\n",
    "\n",
    "q_pts = []\n",
    "q_seg = []\n",
    "\n",
    "for i in origin_idx:\n",
    "    q_pts.append(all_verts[i][:2])\n",
    "q_pts = np.array(q_pts)\n",
    "\n",
    "for bd in border_edge_id:\n",
    "    q_seg.append([query_idx[bd[0]], query_idx[bd[1]]])\n",
    "q_seg = np.array(q_seg)\n",
    "\n",
    "A = dict(vertices=q_pts, segments=q_seg, holes=[mesh_lines.get_center()[:2]])\n",
    "B = tr.triangulate(A, 'p')\n",
    "tr.compare(plt, A, B)\n",
    "plt.figure(figsize=(20,20))\n",
    "\n",
    "plt.show()"
   ]
  },
  {
   "cell_type": "code",
   "execution_count": 18,
   "id": "6b1ff41f",
   "metadata": {},
   "outputs": [],
   "source": [
    "tmp_id = np.vstack((B['triangles'][:, [0, 1]], B['triangles'][:, [1, 2]], B['triangles'][:, [2, 0]]))\n",
    "delaunay_edges = np.array(origin_idx)[tmp_id]\n"
   ]
  },
  {
   "cell_type": "code",
   "execution_count": 19,
   "id": "4b8046da",
   "metadata": {},
   "outputs": [],
   "source": [
    "tmp_id = np.vstack((B['triangles'][:, [0, 1]], B['triangles'][:, [1, 2]], B['triangles'][:, [2, 0]]))\n",
    "delaunay_edges = np.array(origin_idx)[tmp_id]\n",
    "\n",
    "delaunay_lines = o3d.geometry.LineSet(\n",
    "    points=o3d.utility.Vector3dVector( all_verts ),\n",
    "    lines=o3d.utility.Vector2iVector( delaunay_edges ),\n",
    ")"
   ]
  },
  {
   "cell_type": "code",
   "execution_count": 20,
   "id": "1667eb9a",
   "metadata": {},
   "outputs": [
    {
     "data": {
      "text/plain": [
       "array([[15557, 15558],\n",
       "       [15556, 15557],\n",
       "       [15556, 15560],\n",
       "       [15558, 15560],\n",
       "       [19724, 19725],\n",
       "       [19725, 19726],\n",
       "       [19726, 19727],\n",
       "       [19727, 19724]])"
      ]
     },
     "execution_count": 20,
     "metadata": {},
     "output_type": "execute_result"
    }
   ],
   "source": [
    "border_edge_id"
   ]
  },
  {
   "cell_type": "code",
   "execution_count": 21,
   "id": "e1007c2c",
   "metadata": {},
   "outputs": [],
   "source": [
    "o3d.visualization.draw_geometries([mesh, coord, mesh_lines, road, delaunay_lines])\n"
   ]
  },
  {
   "cell_type": "code",
   "execution_count": 22,
   "id": "eeb194ca",
   "metadata": {},
   "outputs": [],
   "source": [
    "new_road = o3d.geometry.TriangleMesh()\n",
    "new_road.vertices = o3d.utility.Vector3dVector(all_verts)\n",
    "\n",
    "new_tris = np.vstack([road.triangles, np.array(mesh.triangles) + offset, np.array(origin_idx)[np.array(B['triangles'])]])\n",
    "new_road.triangles = o3d.utility.Vector3iVector(new_tris)\n",
    "\n",
    "triangles = np.asarray(new_road.triangles)\n",
    "new_edges = np.vstack((triangles[:, [0, 1]], triangles[:, [1, 2]], triangles[:, [2, 0]]))\n",
    "new_lines = o3d.geometry.LineSet(\n",
    "    points=o3d.utility.Vector3dVector(new_road.vertices),\n",
    "    lines=o3d.utility.Vector2iVector(new_edges),\n",
    ")\n",
    "o3d.visualization.draw_geometries([new_road, coord, new_lines])\n"
   ]
  },
  {
   "cell_type": "code",
   "execution_count": 23,
   "id": "c6725095",
   "metadata": {},
   "outputs": [
    {
     "data": {
      "text/plain": [
       "True"
      ]
     },
     "execution_count": 23,
     "metadata": {},
     "output_type": "execute_result"
    }
   ],
   "source": [
    "o3d.io.write_triangle_mesh(\"new_road.ply\", new_road)\n"
   ]
  },
  {
   "cell_type": "code",
   "execution_count": 24,
   "id": "83e041e5",
   "metadata": {},
   "outputs": [
    {
     "data": {
      "text/plain": [
       "std::vector<Eigen::Vector3i> with 24498 elements.\n",
       "Use numpy.asarray() to access data."
      ]
     },
     "execution_count": 24,
     "metadata": {},
     "output_type": "execute_result"
    }
   ],
   "source": [
    "import sys\n",
    "CUR_PATH = os.getcwd()\n",
    "FOLDER_PATH = os.path.join(CUR_PATH, \"RoadPitMesh\")\n",
    "PIT_LIST = os.listdir(os.path.join(CUR_PATH, \"PitMesh\")) \n",
    "# PIT_LIST\n",
    "road.triangles"
   ]
  },
  {
   "cell_type": "code",
   "execution_count": 100,
   "id": "9f4dd1ae",
   "metadata": {},
   "outputs": [
    {
     "data": {
      "image/png": "[encoded data removed]",
      "text/plain": [
       "<Figure size 600x300 with 2 Axes>"
      ]
     },
     "metadata": {},
     "output_type": "display_data"
    }
   ],
   "source": [
    "# import matplotlib.pyplot as plt\n",
    "# import numpy as np\n",
    "\n",
    "# import triangle as tr\n",
    "\n",
    "\n",
    "# def circle(N, R):\n",
    "#     i = np.arange(N)\n",
    "#     theta = i * 2 * np.pi / N\n",
    "#     pts = np.stack([np.cos(theta), np.sin(theta)], axis=1) * R\n",
    "#     seg = np.stack([i, i + 1], axis=1) % N\n",
    "#     return pts, seg\n",
    "\n",
    "\n",
    "# pts0, seg0 = circle(30, 1.4)\n",
    "# pts1, seg1 = circle(16, 0.6)\n",
    "# pts = np.vstack([pts0, pts1])\n",
    "# seg = np.vstack([seg0, seg1 + seg0.shape[0]])\n",
    "\n",
    "# A = dict(vertices=pts, segments=seg, holes=[[0, 0]])\n",
    "# B = tr.triangulate(A, 'qpa0.05')\n",
    "# tr.compare(plt, A, B)\n",
    "# plt.show()"
   ]
  },
  {
   "cell_type": "code",
   "execution_count": 106,
   "id": "dc8bf366",
   "metadata": {
    "scrolled": true
   },
   "outputs": [
    {
     "data": {
      "image/png": "[encoded data removed]",
      "text/plain": [
       "<Figure size 600x300 with 2 Axes>"
      ]
     },
     "metadata": {},
     "output_type": "display_data"
    }
   ],
   "source": [
    "import matplotlib.pyplot as plt\n",
    "import numpy as np\n",
    "\n",
    "import triangle as tr\n",
    "\n",
    "\n",
    "pts = np.array([[0,0], [5,0], [4,3], [2,6]])\n",
    "seg = np.array([[0,1],[1,2],[2,0]])\n",
    "\n",
    "A = dict(vertices=pts, segments=seg)\n",
    "B = tr.triangulate(A, 'qpa0.5')\n",
    "tr.compare(plt, A, B)\n",
    "plt.show()"
   ]
  },
  {
   "cell_type": "code",
   "execution_count": 107,
   "id": "0562ce21",
   "metadata": {},
   "outputs": [
    {
     "data": {
      "text/plain": [
       "{'vertices': array([[0.        , 0.        ],\n",
       "        [5.        , 0.        ],\n",
       "        [4.        , 3.        ],\n",
       "        [2.        , 0.        ],\n",
       "        [1.6       , 1.2       ],\n",
       "        [0.8       , 0.6       ],\n",
       "        [1.        , 0.        ],\n",
       "        [1.5       , 0.5       ],\n",
       "        [2.8       , 2.1       ],\n",
       "        [3.5       , 0.        ],\n",
       "        [2.75      , 0.        ],\n",
       "        [4.5       , 1.5       ],\n",
       "        [3.125     , 1.04166667],\n",
       "        [4.75      , 0.75      ],\n",
       "        [4.25      , 0.        ],\n",
       "        [3.9375    , 0.89583333],\n",
       "        [4.25      , 2.25      ],\n",
       "        [3.2       , 2.4       ],\n",
       "        [3.65774937, 1.6735322 ],\n",
       "        [2.391     , 1.39533333],\n",
       "        [2.375     , 0.64736722]]),\n",
       " 'vertex_markers': array([[1],\n",
       "        [1],\n",
       "        [1],\n",
       "        [1],\n",
       "        [1],\n",
       "        [1],\n",
       "        [1],\n",
       "        [0],\n",
       "        [1],\n",
       "        [1],\n",
       "        [1],\n",
       "        [1],\n",
       "        [0],\n",
       "        [1],\n",
       "        [1],\n",
       "        [0],\n",
       "        [1],\n",
       "        [1],\n",
       "        [0],\n",
       "        [0],\n",
       "        [0]], dtype=int32),\n",
       " 'triangles': array([[12, 19, 20],\n",
       "        [ 5,  0,  6],\n",
       "        [ 6,  3,  7],\n",
       "        [ 9, 14, 15],\n",
       "        [16, 17, 18],\n",
       "        [ 4,  5,  7],\n",
       "        [ 6,  7,  5],\n",
       "        [20,  7,  3],\n",
       "        [16, 18, 11],\n",
       "        [19, 12,  8],\n",
       "        [ 3, 10, 20],\n",
       "        [12, 10,  9],\n",
       "        [18, 12, 15],\n",
       "        [ 9, 15, 12],\n",
       "        [13, 11, 15],\n",
       "        [14, 13, 15],\n",
       "        [14,  1, 13],\n",
       "        [12, 18,  8],\n",
       "        [15, 11, 18],\n",
       "        [16,  2, 17],\n",
       "        [ 8, 18, 17],\n",
       "        [ 8,  4, 19],\n",
       "        [ 4,  7, 20],\n",
       "        [12, 20, 10],\n",
       "        [20, 19,  4]], dtype=int32),\n",
       " 'segments': array([[ 1, 14],\n",
       "        [ 2, 16],\n",
       "        [ 0,  5],\n",
       "        [ 3,  6],\n",
       "        [ 4,  8],\n",
       "        [ 5,  4],\n",
       "        [ 6,  0],\n",
       "        [ 9, 10],\n",
       "        [10,  3],\n",
       "        [11, 13],\n",
       "        [ 8, 17],\n",
       "        [14,  9],\n",
       "        [13,  1],\n",
       "        [16, 11],\n",
       "        [17,  2]], dtype=int32),\n",
       " 'segment_markers': array([[1],\n",
       "        [1],\n",
       "        [1],\n",
       "        [1],\n",
       "        [1],\n",
       "        [1],\n",
       "        [1],\n",
       "        [1],\n",
       "        [1],\n",
       "        [1],\n",
       "        [1],\n",
       "        [1],\n",
       "        [1],\n",
       "        [1],\n",
       "        [1]], dtype=int32)}"
      ]
     },
     "execution_count": 107,
     "metadata": {},
     "output_type": "execute_result"
    }
   ],
   "source": [
    "B"
   ]
  },
  {
   "cell_type": "code",
   "execution_count": 68,
   "id": "f05f9e8f",
   "metadata": {},
   "outputs": [],
   "source": [
    "road = o3d.io.read_triangle_mesh(\"/home/mias/Datasets/CarlaRoads/Town01_Road_Road.obj\")\n",
    "road.remove_duplicated_vertices()\n",
    "road.vertices = o3d.utility.Vector3dVector(np.array(road.vertices)[:, [2,0,1]] / 100)\n",
    "\n",
    "triangles = np.asarray(road.triangles)\n",
    "road_edges = np.vstack((triangles[:, [0, 1]], triangles[:, [1, 2]], triangles[:, [2, 0]]))\n",
    "\n",
    "\n",
    "mesh = o3d.geometry.TriangleMesh()\n",
    "\n",
    "\n",
    "Xs = np.array(road.vertices)[:,0]\n",
    "Ys = np.array(road.vertices)[:,1]\n",
    "RoadBoundary = [Xs.min(), Xs.max(), Ys.min(), Ys.max()]"
   ]
  },
  {
   "cell_type": "code",
   "execution_count": 69,
   "id": "92734666",
   "metadata": {},
   "outputs": [],
   "source": [
    "generated = 0\n",
    "CUR_PATH = os.path.dirname(os.path.curdir)\n",
    "PIT_LIST = os.listdir(os.path.join(CUR_PATH, \"PitMesh\")) \n",
    "\n",
    "collision_manager = trimesh.collision.CollisionManager()\n",
    "new_road = o3d.geometry.TriangleMesh()\n"
   ]
  },
  {
   "cell_type": "code",
   "execution_count": null,
   "id": "6e48bb69",
   "metadata": {},
   "outputs": [],
   "source": []
  },
  {
   "cell_type": "code",
   "execution_count": null,
   "id": "1438d4e2",
   "metadata": {},
   "outputs": [],
   "source": []
  },
  {
   "cell_type": "code",
   "execution_count": 45,
   "id": "55a3d47e",
   "metadata": {},
   "outputs": [
    {
     "data": {
      "text/plain": [
       "[-4.093587951660156, 332.698046875, -4.093587036132813, 398.41890625]"
      ]
     },
     "execution_count": 45,
     "metadata": {},
     "output_type": "execute_result"
    }
   ],
   "source": [
    "RoadBoundary"
   ]
  },
  {
   "cell_type": "code",
   "execution_count": null,
   "id": "47ecc632",
   "metadata": {},
   "outputs": [],
   "source": []
  },
  {
   "cell_type": "code",
   "execution_count": 99,
   "id": "6799c611",
   "metadata": {
    "scrolled": true
   },
   "outputs": [
    {
     "name": "stdout",
     "output_type": "stream",
     "text": [
      "lp 2_34_0.ply\n",
      "  x 111.78873643775141\n",
      "  y 258.35090556288907\n",
      "  yaw 2.0911689584238364\n",
      "outside of map!\n",
      "lp 2_10_0.ply\n",
      "  x 206.8535058182623\n",
      "  y 34.81411130648408\n",
      "  yaw 2.3774016654713876\n",
      "outside of map!\n",
      "lp 2_27_0.ply\n",
      "  x 21.95617726355004\n",
      "  y 395.04526818660247\n",
      "  yaw 2.337259719466785\n",
      "lp 2_17_0.ply\n",
      "  x 159.32279287216457\n",
      "  y 51.591518702777755\n",
      "  yaw 0.6594481763808727\n",
      "outside of map!\n",
      "lp 2_24_0.ply\n",
      "  x 189.94771229279934\n",
      "  y 359.4356508867679\n",
      "  yaw 1.0546690423743037\n",
      "outside of map!\n",
      "lp 2_07_0.ply\n",
      "  x 321.65325829520094\n",
      "  y 140.6206446867242\n",
      "  yaw 1.2462269927622929\n",
      "outside of map!\n",
      "lp 2_33_0.ply\n",
      "  x 202.9891673264079\n",
      "  y 42.02909896090046\n",
      "  yaw 2.072880116641482\n",
      "outside of map!\n",
      "lp 2_07_0.ply\n",
      "  x 121.22656320998578\n",
      "  y 222.89285647752416\n",
      "  yaw 2.042651123689256\n",
      "outside of map!\n",
      "lp 2_05_0.ply\n",
      "  x 133.98414013508756\n",
      "  y 150.6231393395712\n",
      "  yaw 3.020247424799154\n",
      "lp 2_15_0.ply\n",
      "  x 206.84043460835846\n",
      "  y 395.94259156804753\n",
      "  yaw 2.9312573331671308\n"
     ]
    }
   ],
   "source": [
    "for i in range(10) :\n",
    "    new_road.clear()\n",
    "    mesh.clear()\n",
    "\n",
    "    pit_name = PIT_LIST[np.random.randint(len(PIT_LIST))]\n",
    "#     pit_name = \"2_39_0.ply\"\n",
    "    print(\"lp\", pit_name)\n",
    "    # for pit_name, (x,y,yaw) in [[\"2_23_0.ply\", (7.837738336454764, 2.402143199257104, 0.5382318404417871)],\n",
    "    #  [\"2_08_0.ply\", (2.244315337618926, -5.715035545233631, 2.1133360462766233)]]:\n",
    "\n",
    "    new_road = o3d.geometry.TriangleMesh(road)\n",
    "    # new_road = o3d.geometry.TriangleMesh()\n",
    "    # new_road.vertices = o3d.utility.Vector3dVector(np.array(road.vertices))\n",
    "    # new_road.triangles = o3d.utility.Vector3iVector(np.array(road.triangles))\n",
    "\n",
    "    x = np.random.uniform(RoadBoundary[0], RoadBoundary[1])\n",
    "    y = np.random.uniform(RoadBoundary[2], RoadBoundary[3])\n",
    "    yaw = np.random.uniform() * np.pi\n",
    "#     x = 29.347967778266245\n",
    "#     y = 392.47474833888293\n",
    "#     yaw = 0.3696402171284399\n",
    "\n",
    "    print(\"  x\", x)\n",
    "    print(\"  y\", y)\n",
    "    print(\"  yaw\", yaw)\n",
    "\n",
    "    mesh = o3d.io.read_triangle_mesh(os.path.join(CUR_PATH, \"PitMesh\", pit_name))\n",
    "\n",
    "    mesh.translate((x, y, 0))\n",
    "    Rot = mesh.get_rotation_matrix_from_xyz((0, 0, yaw))\n",
    "    mesh.rotate(Rot, center=mesh.get_center())\n",
    "\n",
    "    test0 = trimesh.base.Trimesh(vertices=np.array(mesh.vertices)[:4], faces=np.array([[CORNER_LU, CORNER_LD, CORNER_RD], [CORNER_LU, CORNER_RD, CORNER_RU]]))\n",
    "\n",
    "    collision_manager.add_object(str(generated), test0)\n",
    "    if collision_manager.in_collision_internal():\n",
    "        collision_manager.remove_object(str(generated))\n",
    "        print(\"collision\")\n",
    "        continue\n",
    "\n",
    "    triangles = np.asarray(mesh.triangles)\n",
    "    mesh_edges = np.vstack((triangles[:, [0, 1]], triangles[:, [1, 2]], triangles[:, [2, 0]]))\n",
    "\n",
    "    mesh_lines = o3d.geometry.LineSet(\n",
    "        points=o3d.utility.Vector3dVector(mesh.vertices),\n",
    "        lines=o3d.utility.Vector2iVector(mesh_edges),\n",
    "    )\n",
    "\n",
    "    quires = []\n",
    "    for v in np.array(mesh.vertices):\n",
    "        quires.append([v[0], v[1], v[2] + 1000, 0, 0, -1])\n",
    "    rays = o3d.core.Tensor(quires, dtype=o3d.core.Dtype.Float32)\n",
    "\n",
    "    scene = o3d.t.geometry.RaycastingScene()\n",
    "    road_tri = o3d.t.geometry.TriangleMesh.from_legacy(new_road)\n",
    "    road_id = scene.add_triangles(road_tri)\n",
    "\n",
    "    ans = scene.cast_rays(rays)\n",
    "\n",
    "    collide = list(set(ans['primitive_ids'].numpy()))\n",
    "    if scene.INVALID_ID in collide:\n",
    "        print(\"outside of map!\")\n",
    "        continue\n",
    "\n",
    "    border = []\n",
    "    visited = set([])\n",
    "    for c in collide:\n",
    "        for i,j in [[0,1], [1,2], [2,0]]:\n",
    "            s = min(new_road.triangles[c][i], new_road.triangles[c][j])\n",
    "            e = max(new_road.triangles[c][i], new_road.triangles[c][j])\n",
    "            if (s,e) in visited:\n",
    "                border.remove((s,e))\n",
    "#                 print(\"rmv\", s, e)\n",
    "            else:\n",
    "                visited.add((s,e))\n",
    "                border.append((s,e))\n",
    "#                 print('Add', s, e)\n",
    "    border_lines = o3d.geometry.LineSet(\n",
    "        points=o3d.utility.Vector3dVector(new_road.vertices),\n",
    "        lines=o3d.utility.Vector2iVector(np.array(border)),\n",
    "    )\n",
    "#     break\n"
   ]
  },
  {
   "cell_type": "code",
   "execution_count": 83,
   "id": "0ba4b51d",
   "metadata": {},
   "outputs": [],
   "source": [
    "# pts = set([])\n",
    "# for v in visited:\n",
    "#     pts.add(v[0])\n",
    "#     pts.add(v[1])\n",
    "    \n",
    "# pts = list(pts)\n",
    "# for i in range(len(pts)):\n",
    "#     for j in range(i+1, len(pts)):\n",
    "#         print(pts[i], pts[j], np.linalg.norm(new_road.vertices[pts[i]] - new_road.vertices[pts[j]]))\n"
   ]
  },
  {
   "cell_type": "code",
   "execution_count": 72,
   "id": "5874385a",
   "metadata": {},
   "outputs": [
    {
     "data": {
      "text/plain": [
       "[(2200, 2212),\n",
       " (2212, 2215),\n",
       " (2191, 2215),\n",
       " (2191, 2195),\n",
       " (2195, 2199),\n",
       " (2199, 2203),\n",
       " (2200, 2204),\n",
       " (2203, 2204)]"
      ]
     },
     "execution_count": 72,
     "metadata": {},
     "output_type": "execute_result"
    }
   ],
   "source": [
    "\"\"\"lp 2_39_0.ply\n",
    "x 29.347967778266245\n",
    "y 392.47474833888293\n",
    "yaw 0.3696402171284399\"\"\"\n",
    "border"
   ]
  },
  {
   "cell_type": "code",
   "execution_count": 73,
   "id": "af6d589d",
   "metadata": {},
   "outputs": [
    {
     "name": "stdout",
     "output_type": "stream",
     "text": [
      "triangles before std::vector<Eigen::Vector3i> with 24500 elements.\n",
      "Use numpy.asarray() to access data.\n",
      "triangle after std::vector<Eigen::Vector3i> with 24492 elements.\n",
      "Use numpy.asarray() to access data.\n"
     ]
    }
   ],
   "source": [
    "\n",
    "print(  \"triangles before\", new_road.triangles )\n",
    "new_road.triangles = o3d.utility.Vector3iVector(np.delete(np.asarray(new_road.triangles), collide, axis=0))\n",
    "print(  \"triangle after\", new_road.triangles )\n"
   ]
  },
  {
   "cell_type": "code",
   "execution_count": 74,
   "id": "d998e383",
   "metadata": {},
   "outputs": [],
   "source": [
    "all_verts = np.vstack([new_road.vertices, mesh.vertices])\n",
    "\n",
    "offset = np.array(new_road.vertices).shape[0]\n",
    "tmp_id = np.array([ [CORNER_LU, CORNER_LD], \n",
    "                    [CORNER_LD, CORNER_RD],\n",
    "                    [CORNER_RD, CORNER_RU], \n",
    "                    [CORNER_RU, CORNER_LU]\n",
    "                ])\n",
    "border_edge_id = np.vstack([border, tmp_id+offset])\n",
    "\n"
   ]
  },
  {
   "cell_type": "code",
   "execution_count": null,
   "id": "5e74a43a",
   "metadata": {},
   "outputs": [],
   "source": []
  },
  {
   "cell_type": "code",
   "execution_count": 75,
   "id": "8c67ce4d",
   "metadata": {},
   "outputs": [],
   "source": [
    "origin_lines = o3d.geometry.LineSet(\n",
    "    points=o3d.utility.Vector3dVector( all_verts ),\n",
    "    lines=o3d.utility.Vector2iVector( border_edge_id ),\n",
    ")\n",
    "\n",
    "coord = o3d.geometry.TriangleMesh.create_coordinate_frame(size=3, origin=mesh.get_center())\n",
    "\n",
    "o3d.visualization.draw_geometries([road, mesh_lines, border_lines, coord])"
   ]
  },
  {
   "cell_type": "code",
   "execution_count": 76,
   "id": "9bdc12b4",
   "metadata": {},
   "outputs": [],
   "source": [
    "#### triangles solution: Delaunary triangulation\n",
    "origin_idx = list(set(border_edge_id.flatten().tolist()))\n",
    "query_idx = {origin_idx[i]:i for i in range(len(origin_idx))}\n",
    "\n",
    "q_pts = []\n",
    "q_seg = []\n",
    "\n",
    "for i in origin_idx:\n",
    "    q_pts.append(all_verts[i][:2])\n",
    "q_pts = np.array(q_pts)\n",
    "\n",
    "for bd in border_edge_id:\n",
    "    q_seg.append([query_idx[bd[0]], query_idx[bd[1]]])\n",
    "q_seg = np.array(q_seg)"
   ]
  },
  {
   "cell_type": "code",
   "execution_count": 77,
   "id": "40f0b879",
   "metadata": {},
   "outputs": [
    {
     "data": {
      "text/plain": [
       "array([[ 29.96934082, 398.24507813],\n",
       "       [ 32.20727706, 393.05714773],\n",
       "       [ 31.1193457 , 398.24507813],\n",
       "       [ 31.38091172, 394.52553173],\n",
       "       [ 32.26388916, 394.32652344],\n",
       "       [ 32.25845215, 390.37578125],\n",
       "       [ 29.74907129, 392.00746671],\n",
       "       [ 31.10845215, 390.37578125],\n",
       "       [ 29.96389404, 394.32652344],\n",
       "       [ 29.17183772, 393.78249102],\n",
       "       [ 29.95844971, 390.37578125],\n",
       "       [ 28.73133301, 394.32652344]])"
      ]
     },
     "execution_count": 77,
     "metadata": {},
     "output_type": "execute_result"
    }
   ],
   "source": [
    "q_pts"
   ]
  },
  {
   "cell_type": "code",
   "execution_count": 84,
   "id": "acb54c5c",
   "metadata": {},
   "outputs": [],
   "source": [
    "o3d.visualization.draw_geometries([mesh, mesh_lines])"
   ]
  },
  {
   "cell_type": "code",
   "execution_count": 79,
   "id": "6eef3222",
   "metadata": {},
   "outputs": [
    {
     "data": {
      "image/png": "[encoded data removed]",
      "text/plain": [
       "<Figure size 600x300 with 2 Axes>"
      ]
     },
     "metadata": {},
     "output_type": "display_data"
    }
   ],
   "source": [
    "\n",
    "\n",
    "A = dict(vertices=q_pts, segments=q_seg, holes=[mesh.get_center()[:2]]) ## [0,0] should work\n",
    "B = tr.triangulate(A, 'piC')\n",
    "tr.compare(plt, A, B)\n",
    "\n",
    "\n",
    "tmp_id = np.vstack((B['triangles'][:, [0, 1]], B['triangles'][:, [1, 2]], B['triangles'][:, [2, 0]]))\n",
    "# print(\"origin idx:\", origin_idx)\n",
    "# print(\"A: \\n\", A)\n",
    "# print(\"B: \\n\", B)\n",
    "if A['vertices'].shape[0] != B['vertices'].shape[0]:\n",
    "    print(\"Vertices number mismatch\")\n",
    "#     continue"
   ]
  },
  {
   "cell_type": "code",
   "execution_count": 80,
   "id": "2e1135ec",
   "metadata": {},
   "outputs": [
    {
     "name": "stdout",
     "output_type": "stream",
     "text": [
      "Successfully generated 2_39_0.ply at 29.347967778266245 392.47474833888293 0.3696402171284399\n"
     ]
    }
   ],
   "source": [
    "\n",
    "delaunay_edges = np.array(origin_idx)[tmp_id]\n",
    "\n",
    "delaunay_lines = o3d.geometry.LineSet(\n",
    "    points=o3d.utility.Vector3dVector( all_verts ),\n",
    "    lines=o3d.utility.Vector2iVector( delaunay_edges ),\n",
    ")\n",
    "\n",
    "\n",
    "# new_road = o3d.geometry.TriangleMesh()\n",
    "new_road.vertices = o3d.utility.Vector3dVector(all_verts)\n",
    "\n",
    "new_tris = np.vstack([new_road.triangles, np.array(mesh.triangles) + offset, np.array(origin_idx)[np.array(B['triangles'])]])\n",
    "new_road.triangles = o3d.utility.Vector3iVector(new_tris)\n",
    "\n",
    "triangles = np.asarray(new_road.triangles)\n",
    "new_edges = np.vstack((triangles[:, [0, 1]], triangles[:, [1, 2]], triangles[:, [2, 0]]))\n",
    "#     new_lines = o3d.geometry.LineSet(\n",
    "#         points=o3d.utility.Vector3dVector(new_road.vertices),\n",
    "#         lines=o3d.utility.Vector2iVector(new_edges),\n",
    "#     )\n",
    "# o3d.visualization.draw_geometries([road, new_lines])\n",
    "road.clear()\n",
    "road = o3d.geometry.TriangleMesh(new_road)\n",
    "mesh.clear()\n",
    "\n",
    "generated += 1\n",
    "print(\"Successfully generated\", pit_name, \"at\", x, y, yaw)"
   ]
  },
  {
   "cell_type": "code",
   "execution_count": null,
   "id": "5f8c2d13",
   "metadata": {},
   "outputs": [],
   "source": []
  },
  {
   "cell_type": "code",
   "execution_count": null,
   "id": "12beebde",
   "metadata": {},
   "outputs": [],
   "source": []
  },
  {
   "cell_type": "code",
   "execution_count": null,
   "id": "e1f8efd2",
   "metadata": {},
   "outputs": [],
   "source": []
  },
  {
   "cell_type": "code",
   "execution_count": null,
   "id": "79d77d57",
   "metadata": {},
   "outputs": [],
   "source": [
    "# o3d.visualization.draw_geometries([mesh, mesh_lines, road, coord])"
   ]
  },
  {
   "cell_type": "code",
   "execution_count": null,
   "id": "6b141866",
   "metadata": {},
   "outputs": [],
   "source": []
  },
  {
   "cell_type": "code",
   "execution_count": null,
   "id": "ba045928",
   "metadata": {},
   "outputs": [],
   "source": []
  },
  {
   "cell_type": "code",
   "execution_count": null,
   "id": "51e38244",
   "metadata": {},
   "outputs": [],
   "source": []
  },
  {
   "cell_type": "code",
   "execution_count": null,
   "id": "3789480d",
   "metadata": {},
   "outputs": [],
   "source": []
  },
  {
   "cell_type": "code",
   "execution_count": null,
   "id": "ecb39102",
   "metadata": {},
   "outputs": [],
   "source": []
  },
  {
   "cell_type": "code",
   "execution_count": 58,
   "id": "4a9a396f",
   "metadata": {},
   "outputs": [
    {
     "data": {
      "text/plain": [
       "5.830951894845301"
      ]
     },
     "execution_count": 58,
     "metadata": {},
     "output_type": "execute_result"
    }
   ],
   "source": [
    "# np.linalg.norm(B-A)"
   ]
  },
  {
   "cell_type": "code",
   "execution_count": 56,
   "id": "c20b6001",
   "metadata": {},
   "outputs": [
    {
     "data": {
      "text/plain": [
       "array([3.08823529, 1.85294118])"
      ]
     },
     "execution_count": 56,
     "metadata": {},
     "output_type": "execute_result"
    }
   ],
   "source": [
    "# A = np.array([0,0])\n",
    "# B = np.array([5,3])\n",
    "# C = np.array([3,2])\n",
    "\n",
    "# n = (B-A) / np.linalg.norm(B-A)\n",
    "# A + np.dot((C-A), n) * n"
   ]
  },
  {
   "cell_type": "code",
   "execution_count": 117,
   "id": "1e659889",
   "metadata": {},
   "outputs": [],
   "source": [
    "import noise\n",
    "import numpy as np\n",
    "from PIL import Image\n",
    "\n",
    "# Set the size of the heightmap\n",
    "width = 1024\n",
    "height = 1024\n",
    "\n",
    "# Set the scale of the Perlin noise\n",
    "scale = 10.0\n",
    "\n",
    "# Generate a 2D grid of Perlin noise values\n",
    "perlin_grid = np.zeros((width, height))\n",
    "for x in range(width):\n",
    "    for y in range(height):\n",
    "        perlin_grid[x][y] = noise.snoise2(x / scale, y / scale)\n",
    "\n",
    "# Normalize the grid to the range [0, 1]\n",
    "perlin_grid = (perlin_grid - perlin_grid.min()) / (perlin_grid.max() - perlin_grid.min())\n",
    "\n",
    "# Save the heightmap as an image\n",
    "img = Image.fromarray(np.uint8(perlin_grid * 255))"
   ]
  },
  {
   "cell_type": "code",
   "execution_count": 118,
   "id": "01f801fc",
   "metadata": {},
   "outputs": [],
   "source": [
    "img.show()"
   ]
  }
 ],
 "metadata": {
  "kernelspec": {
   "display_name": "Python 3 (ipykernel)",
   "language": "python",
   "name": "python3"
  },
  "language_info": {
   "codemirror_mode": {
    "name": "ipython",
    "version": 3
   },
   "file_extension": ".py",
   "mimetype": "text/x-python",
   "name": "python",
   "nbconvert_exporter": "python",
   "pygments_lexer": "ipython3",
   "version": "3.8.0"
  }
 },
 "nbformat": 4,
 "nbformat_minor": 5
}
